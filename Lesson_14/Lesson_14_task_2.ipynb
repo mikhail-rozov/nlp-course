{
 "cells": [
  {
   "cell_type": "markdown",
   "id": "0fe3679d-ce66-49ab-baa3-6dcea73b5229",
   "metadata": {},
   "source": [
    "*Взять новостные данные из https://github.com/natasha/corus load_lenta2. Нам  \n",
    "понадобится сам текст и заголовок. Обучить модель T5/ или GPT для генерации заголовков для статей.*"
   ]
  },
  {
   "cell_type": "markdown",
   "id": "99001590-0acb-4817-a839-d19d6b1465e6",
   "metadata": {},
   "source": [
    "В этом задании возьмём готовую модель Т5 и дообучим её  \n",
    "под нашу задачу."
   ]
  },
  {
   "cell_type": "markdown",
   "id": "e671310a-a9b4-4993-b9c0-1f002a10f2de",
   "metadata": {},
   "source": [
    "Ссылка на скачивание датасета:"
   ]
  },
  {
   "cell_type": "code",
   "execution_count": 1,
   "id": "8fa4f93f-8c5b-4df3-aac9-476a210e0a69",
   "metadata": {},
   "outputs": [],
   "source": [
    "# !wget https://github.com/yutkin/Lenta.Ru-News-Dataset/releases/download/v1.1/lenta-ru-news.csv.bz2"
   ]
  },
  {
   "cell_type": "markdown",
   "id": "2d6c6dce-671d-4eaa-a33c-b0485e964d01",
   "metadata": {},
   "source": [
    "Загрузим библиотеки и датасет:"
   ]
  },
  {
   "cell_type": "code",
   "execution_count": 1,
   "id": "c304423c-0983-4c13-b379-fe98cdaf3cba",
   "metadata": {},
   "outputs": [],
   "source": [
    "%matplotlib inline\n",
    "\n",
    "from corus import load_lenta2\n",
    "import matplotlib.pyplot as plt\n",
    "import pandas as pd\n",
    "from sklearn.model_selection import train_test_split\n",
    "import torch\n",
    "from torchinfo import summary\n",
    "from tqdm import tqdm\n",
    "from transformers import AutoTokenizer, AutoModelForSeq2SeqLM"
   ]
  },
  {
   "cell_type": "code",
   "execution_count": 2,
   "id": "11030e35-f7ce-40e9-a699-bb210addf0df",
   "metadata": {},
   "outputs": [],
   "source": [
    "RANDOM_STATE = 29"
   ]
  },
  {
   "cell_type": "code",
   "execution_count": 3,
   "id": "9f480734-3d53-4220-9d9b-8e4d917476be",
   "metadata": {},
   "outputs": [],
   "source": [
    "path = 'lenta-ru-news.csv.bz2'\n",
    "records = load_lenta2(path)"
   ]
  },
  {
   "cell_type": "code",
   "execution_count": 4,
   "id": "58406235-2d09-4dae-82db-75c93afa0cc1",
   "metadata": {},
   "outputs": [
    {
     "data": {
      "text/plain": [
       "LentaRecord(\n",
       "    url='https://lenta.ru/news/1914/09/16/hungarnn/',\n",
       "    title='1914. Русские войска вступили в\\xa0пределы Венгрии  ',\n",
       "    text='Бои у Сопоцкина и Друскеник закончились отступлением германцев. Неприятель, приблизившись с севера к Осовцу начал артиллерийскую борьбу с крепостью. В артиллерийском бою принимают участие тяжелые калибры. С раннего утра 14 сентября огонь достиг значительного напряжения. Попытка германской пехоты пробиться ближе к крепости отражена. В Галиции мы заняли Дембицу. Большая колонна, отступавшая по шоссе от Перемышля к Саноку, обстреливалась с высот нашей батареей и бежала, бросив парки, обоз и автомобили. Вылазки гарнизона Перемышля остаются безуспешными. При продолжающемся отступлении австрийцев обнаруживается полное перемешивание их частей, захватываются новые партии пленных, орудия и прочая материальная часть. На перевале Ужок мы разбили неприятельский отряд, взяли его артиллерию и много пленных и, продолжая преследовать, вступили в пределы Венгрии. «Русский инвалид», 16 сентября 1914 года.',\n",
       "    topic='Библиотека',\n",
       "    tags='Первая мировая',\n",
       "    date=datetime.datetime(1914, 9, 16, 0, 0)\n",
       ")"
      ]
     },
     "execution_count": 4,
     "metadata": {},
     "output_type": "execute_result"
    }
   ],
   "source": [
    "next(records)"
   ]
  },
  {
   "cell_type": "markdown",
   "id": "55cd1fae-0939-4f60-b7c8-a2bf1702f998",
   "metadata": {},
   "source": [
    "В качестве модели возьмём базовую версию мультиязычной Т5,  \n",
    "из которой были удалены языки, кроме русского и английского."
   ]
  },
  {
   "cell_type": "code",
   "execution_count": 6,
   "id": "325aecbe-2d0d-48d1-b474-0eed4388dbda",
   "metadata": {},
   "outputs": [],
   "source": [
    "model_name = 'cointegrated/rut5-base'\n",
    "\n",
    "tokenizer = AutoTokenizer.from_pretrained(model_name)\n",
    "model = AutoModelForSeq2SeqLM.from_pretrained(model_name)"
   ]
  },
  {
   "cell_type": "markdown",
   "id": "8b3554cb-8e11-4483-96c2-a73cde496050",
   "metadata": {},
   "source": [
    "Загрузим весь датасет в память:"
   ]
  },
  {
   "cell_type": "code",
   "execution_count": 7,
   "id": "d11ddac3-3e8f-42ff-83ee-59dd6ce474fd",
   "metadata": {},
   "outputs": [],
   "source": [
    "dataset = [(record.text, record.title) for record in records]"
   ]
  },
  {
   "cell_type": "code",
   "execution_count": 8,
   "id": "293d8d1e-306e-4de0-a79c-f4f8f565660f",
   "metadata": {},
   "outputs": [
    {
     "data": {
      "text/plain": [
       "(800974, 2)"
      ]
     },
     "execution_count": 8,
     "metadata": {},
     "output_type": "execute_result"
    }
   ],
   "source": [
    "dataset = pd.DataFrame(dataset, columns=['text', 'title'])\n",
    "dataset.shape"
   ]
  },
  {
   "cell_type": "code",
   "execution_count": 9,
   "id": "f2c2ff8c-071e-44eb-bdfb-c68ace01279a",
   "metadata": {},
   "outputs": [
    {
     "data": {
      "text/html": [
       "<div>\n",
       "<style scoped>\n",
       "    .dataframe tbody tr th:only-of-type {\n",
       "        vertical-align: middle;\n",
       "    }\n",
       "\n",
       "    .dataframe tbody tr th {\n",
       "        vertical-align: top;\n",
       "    }\n",
       "\n",
       "    .dataframe thead th {\n",
       "        text-align: right;\n",
       "    }\n",
       "</style>\n",
       "<table border=\"1\" class=\"dataframe\">\n",
       "  <thead>\n",
       "    <tr style=\"text-align: right;\">\n",
       "      <th></th>\n",
       "      <th>text</th>\n",
       "      <th>title</th>\n",
       "    </tr>\n",
       "  </thead>\n",
       "  <tbody>\n",
       "    <tr>\n",
       "      <th>0</th>\n",
       "      <td>Министерство народного просвещения, в виду про...</td>\n",
       "      <td>1914. Празднование столетия М.Ю. Лермонтова от...</td>\n",
       "    </tr>\n",
       "    <tr>\n",
       "      <th>1</th>\n",
       "      <td>Штабс-капитан П. Н. Нестеров на днях, увидев в...</td>\n",
       "      <td>1914. Das ist Nesteroff!</td>\n",
       "    </tr>\n",
       "    <tr>\n",
       "      <th>2</th>\n",
       "      <td>Фотограф-корреспондент Daily Mirror рассказыва...</td>\n",
       "      <td>1914. Бульдог-гонец под Льежем</td>\n",
       "    </tr>\n",
       "    <tr>\n",
       "      <th>3</th>\n",
       "      <td>Лица, приехавшие в Варшаву из Люблина, передаю...</td>\n",
       "      <td>1914. Под Люблином пойман швабский зверь</td>\n",
       "    </tr>\n",
       "    <tr>\n",
       "      <th>4</th>\n",
       "      <td>Как стало известно агентству Ассошиэйтед Пресс...</td>\n",
       "      <td>Космонавты сомневаются в надежности \"Мира\"</td>\n",
       "    </tr>\n",
       "  </tbody>\n",
       "</table>\n",
       "</div>"
      ],
      "text/plain": [
       "                                                text  \\\n",
       "0  Министерство народного просвещения, в виду про...   \n",
       "1  Штабс-капитан П. Н. Нестеров на днях, увидев в...   \n",
       "2  Фотограф-корреспондент Daily Mirror рассказыва...   \n",
       "3  Лица, приехавшие в Варшаву из Люблина, передаю...   \n",
       "4  Как стало известно агентству Ассошиэйтед Пресс...   \n",
       "\n",
       "                                               title  \n",
       "0  1914. Празднование столетия М.Ю. Лермонтова от...  \n",
       "1                           1914. Das ist Nesteroff!  \n",
       "2                    1914. Бульдог-гонец под Льежем   \n",
       "3           1914. Под Люблином пойман швабский зверь  \n",
       "4         Космонавты сомневаются в надежности \"Мира\"  "
      ]
     },
     "execution_count": 9,
     "metadata": {},
     "output_type": "execute_result"
    }
   ],
   "source": [
    "dataset.head()"
   ]
  },
  {
   "cell_type": "markdown",
   "id": "9f713a69-f982-4b3e-9a8c-536b5e0f3884",
   "metadata": {},
   "source": [
    "Для более быстрого обучения возьмём только 10000 строк:"
   ]
  },
  {
   "cell_type": "code",
   "execution_count": 10,
   "id": "c23f7515-b3fc-42d2-b2ba-286072281819",
   "metadata": {},
   "outputs": [],
   "source": [
    "dataset = dataset.sample(10000, random_state=RANDOM_STATE)"
   ]
  },
  {
   "cell_type": "markdown",
   "id": "550328b2-daa6-443f-b390-140d8bf9d8dc",
   "metadata": {},
   "source": [
    "Разделим на обучающую и тестовую выборки, чтобы на тестовой  \n",
    "можно было проверить результаты работы модели:"
   ]
  },
  {
   "cell_type": "code",
   "execution_count": 11,
   "id": "010558d0-ec9d-47db-b45b-b4b18f871a84",
   "metadata": {},
   "outputs": [],
   "source": [
    "data_train, data_test = train_test_split(dataset, test_size=0.05, random_state=RANDOM_STATE)"
   ]
  },
  {
   "cell_type": "code",
   "execution_count": 12,
   "id": "4cb4b693-0033-46fb-be8b-a217a5204dc2",
   "metadata": {},
   "outputs": [
    {
     "data": {
      "text/plain": [
       "(500, 2)"
      ]
     },
     "execution_count": 12,
     "metadata": {},
     "output_type": "execute_result"
    }
   ],
   "source": [
    "data_test.shape"
   ]
  },
  {
   "cell_type": "markdown",
   "id": "df432cbb-4b81-4933-8a56-74943e883a5f",
   "metadata": {},
   "source": [
    "Посмотрим на распределение длин токенов в текстах:"
   ]
  },
  {
   "cell_type": "code",
   "execution_count": 13,
   "id": "62b014f3-4a70-41da-9376-a94bcff87a4e",
   "metadata": {},
   "outputs": [
    {
     "data": {
      "image/png": "[encoded data removed]",
      "text/plain": [
       "<Figure size 800x300 with 2 Axes>"
      ]
     },
     "metadata": {},
     "output_type": "display_data"
    }
   ],
   "source": [
    "plt.figure(figsize=(8, 3))\n",
    "\n",
    "plt.subplot(1, 2, 1)\n",
    "plt.hist([len(tokenizer.encode(data)) for data in dataset['text']], bins=15)\n",
    "plt.title('Длина текстов')\n",
    "\n",
    "plt.subplot(1, 2, 2)\n",
    "plt.hist([len(tokenizer.encode(data)) for data in dataset['title']], bins=15)\n",
    "plt.title('Длина заголовков')\n",
    "\n",
    "plt.show()"
   ]
  },
  {
   "cell_type": "markdown",
   "id": "55cbb9a5-908d-436a-9d85-5a3c4f6522b0",
   "metadata": {},
   "source": [
    "Тексты достаточно длинные, зададимся следующими числами:"
   ]
  },
  {
   "cell_type": "code",
   "execution_count": 14,
   "id": "a77d4c46-0653-46b7-83aa-6ce9a6586915",
   "metadata": {},
   "outputs": [],
   "source": [
    "MAX_TEXT_LEN = 1024\n",
    "MAX_TITLE_LEN = 32"
   ]
  },
  {
   "cell_type": "markdown",
   "id": "718b8bea-b322-4fd0-8c50-ece2cf937ded",
   "metadata": {},
   "source": [
    "Напишем класс датасета. Объединим инпуты и таргеты в один словарь,  \n",
    "так модель будет сама рассчитывать лосс."
   ]
  },
  {
   "cell_type": "code",
   "execution_count": 15,
   "id": "39d970e1-eda7-475b-bf12-64a41d646a1f",
   "metadata": {},
   "outputs": [
    {
     "data": {
      "text/plain": [
       "'cuda'"
      ]
     },
     "execution_count": 15,
     "metadata": {},
     "output_type": "execute_result"
    }
   ],
   "source": [
    "device = 'cuda' if torch.cuda.is_available() else 'cpu'\n",
    "device"
   ]
  },
  {
   "cell_type": "code",
   "execution_count": 16,
   "id": "82b38ac0-80a1-422e-b287-a4a280bd825b",
   "metadata": {},
   "outputs": [],
   "source": [
    "class NewsDataset(torch.utils.data.Dataset):\n",
    "    \n",
    "    def __init__(self, dataset):    \n",
    "        \n",
    "        self.dataset = dataset\n",
    "        \n",
    "        self.texts = tokenizer(self.dataset['text'].tolist(), padding=True, truncation=True, \n",
    "                               max_length=MAX_TEXT_LEN, return_tensors='pt')\n",
    "        \n",
    "        self.titles = tokenizer(self.dataset['title'].tolist(), padding=True, truncation=True, \n",
    "                                max_length=MAX_TITLE_LEN, return_tensors='pt', return_attention_mask=False)\n",
    "        \n",
    "    def __getitem__(self, index):\n",
    "        example = {k: v[index].to(device) for k, v in self.texts.items()}\n",
    "        example['labels'] = self.titles['input_ids'][index].to(device)\n",
    "        return example\n",
    "    \n",
    "    def __len__(self):\n",
    "        return len(self.dataset)"
   ]
  },
  {
   "cell_type": "markdown",
   "id": "27896bac-d68e-4ede-a8e0-9a43bec88325",
   "metadata": {},
   "source": [
    "Посмотрим на модель:"
   ]
  },
  {
   "cell_type": "code",
   "execution_count": 17,
   "id": "2a7d7fe5-156d-4807-8876-79ebb339c948",
   "metadata": {},
   "outputs": [
    {
     "data": {
      "text/plain": [
       "=====================================================================================\n",
       "Layer (type:depth-idx)                                       Param #\n",
       "=====================================================================================\n",
       "T5ForConditionalGeneration                                   --\n",
       "├─Embedding: 1-1                                             23,040,000\n",
       "├─T5Stack: 1-2                                               23,040,000\n",
       "│    └─Embedding: 2-1                                        (recursive)\n",
       "│    └─ModuleList: 2-2                                       --\n",
       "│    │    └─T5Block: 3-1                                     7,079,808\n",
       "│    │    └─T5Block: 3-2                                     7,079,424\n",
       "│    │    └─T5Block: 3-3                                     7,079,424\n",
       "│    │    └─T5Block: 3-4                                     7,079,424\n",
       "│    │    └─T5Block: 3-5                                     7,079,424\n",
       "│    │    └─T5Block: 3-6                                     7,079,424\n",
       "│    │    └─T5Block: 3-7                                     7,079,424\n",
       "│    │    └─T5Block: 3-8                                     7,079,424\n",
       "│    │    └─T5Block: 3-9                                     7,079,424\n",
       "│    │    └─T5Block: 3-10                                    7,079,424\n",
       "│    │    └─T5Block: 3-11                                    7,079,424\n",
       "│    │    └─T5Block: 3-12                                    7,079,424\n",
       "│    └─T5LayerNorm: 2-3                                      768\n",
       "│    └─Dropout: 2-4                                          --\n",
       "├─T5Stack: 1-3                                               23,040,000\n",
       "│    └─Embedding: 2-5                                        (recursive)\n",
       "│    └─ModuleList: 2-6                                       --\n",
       "│    │    └─T5Block: 3-13                                    9,439,872\n",
       "│    │    └─T5Block: 3-14                                    9,439,488\n",
       "│    │    └─T5Block: 3-15                                    9,439,488\n",
       "│    │    └─T5Block: 3-16                                    9,439,488\n",
       "│    │    └─T5Block: 3-17                                    9,439,488\n",
       "│    │    └─T5Block: 3-18                                    9,439,488\n",
       "│    │    └─T5Block: 3-19                                    9,439,488\n",
       "│    │    └─T5Block: 3-20                                    9,439,488\n",
       "│    │    └─T5Block: 3-21                                    9,439,488\n",
       "│    │    └─T5Block: 3-22                                    9,439,488\n",
       "│    │    └─T5Block: 3-23                                    9,439,488\n",
       "│    │    └─T5Block: 3-24                                    9,439,488\n",
       "│    └─T5LayerNorm: 2-7                                      768\n",
       "│    └─Dropout: 2-8                                          --\n",
       "├─Linear: 1-4                                                23,040,000\n",
       "=====================================================================================\n",
       "Total params: 244,309,248\n",
       "Trainable params: 244,309,248\n",
       "Non-trainable params: 0\n",
       "====================================================================================="
      ]
     },
     "execution_count": 17,
     "metadata": {},
     "output_type": "execute_result"
    }
   ],
   "source": [
    "summary(model)"
   ]
  },
  {
   "cell_type": "markdown",
   "id": "db345b4b-96c8-4a31-8ae3-753adc4f34e4",
   "metadata": {},
   "source": [
    "Учитывая громоздкость модели и приличную длину текстов, размер батча  \n",
    "больше 1 приводит к ошибке нехватки памяти:"
   ]
  },
  {
   "cell_type": "code",
   "execution_count": 18,
   "id": "0a934412-dfc8-4399-bab4-2df7e7b6c11c",
   "metadata": {},
   "outputs": [],
   "source": [
    "BATCH_SIZE = 1"
   ]
  },
  {
   "cell_type": "markdown",
   "id": "35688650-bfae-4422-bcb8-bc0f49ee4929",
   "metadata": {},
   "source": [
    "Создадим даталоадер:"
   ]
  },
  {
   "cell_type": "code",
   "execution_count": 19,
   "id": "ddf269e3-b968-4dc2-80ea-3b1a704a430f",
   "metadata": {},
   "outputs": [],
   "source": [
    "train_dataset = NewsDataset(data_train)"
   ]
  },
  {
   "cell_type": "code",
   "execution_count": 20,
   "id": "fa396413-2632-47c3-94b2-d0a762309ca4",
   "metadata": {},
   "outputs": [],
   "source": [
    "torch.random.manual_seed(RANDOM_STATE)\n",
    "\n",
    "train_loader = torch.utils.data.DataLoader(train_dataset,\n",
    "                                           batch_size=BATCH_SIZE,\n",
    "                                           shuffle=True)"
   ]
  },
  {
   "cell_type": "markdown",
   "id": "d74a99a4-0bd4-40d9-b171-2ee5cd344fc1",
   "metadata": {},
   "source": [
    "Обучим модель. Обучать будем только последний линейный слой, т.к. даже  \n",
    "обучение одного слоя занимает довольно приличное время. Также добавление  \n",
    "других слоёв в обучение приводит к ошибке нехватки памяти."
   ]
  },
  {
   "cell_type": "code",
   "execution_count": 19,
   "id": "1886a438-4f1e-4e71-b8cc-758dc728997c",
   "metadata": {},
   "outputs": [
    {
     "name": "stderr",
     "output_type": "stream",
     "text": [
      "100%|███████████████████████████████████████| 9500/9500 [31:46<00:00,  4.98it/s]\n"
     ]
    },
    {
     "name": "stdout",
     "output_type": "stream",
     "text": [
      "Epoch [1/3]. Train Loss: 18.991.\n"
     ]
    },
    {
     "name": "stderr",
     "output_type": "stream",
     "text": [
      "100%|███████████████████████████████████████| 9500/9500 [31:35<00:00,  5.01it/s]\n"
     ]
    },
    {
     "name": "stdout",
     "output_type": "stream",
     "text": [
      "Epoch [2/3]. Train Loss: 8.073.\n"
     ]
    },
    {
     "name": "stderr",
     "output_type": "stream",
     "text": [
      "100%|███████████████████████████████████████| 9500/9500 [31:34<00:00,  5.01it/s]\n"
     ]
    },
    {
     "name": "stdout",
     "output_type": "stream",
     "text": [
      "Epoch [3/3]. Train Loss: 7.279.\n",
      "Training is finished!\n"
     ]
    }
   ],
   "source": [
    "EPOCHS = 3\n",
    "\n",
    "torch.random.manual_seed(RANDOM_STATE)\n",
    "torch.backends.cudnn.deterministic = True\n",
    "\n",
    "model = model.to(device)\n",
    "\n",
    "optimizer = torch.optim.Adam(model.lm_head.parameters(), lr=1e-5)\n",
    "\n",
    "for epoch in range(EPOCHS):\n",
    "    \n",
    "    losses = 0.\n",
    "    \n",
    "    for data in tqdm(train_loader):\n",
    "        model.train()\n",
    "        \n",
    "        optimizer.zero_grad()\n",
    "        outputs = model(**data)\n",
    "\n",
    "        loss = outputs.loss\n",
    "        losses += outputs.loss.item()\n",
    "        loss.backward()\n",
    "        optimizer.step()\n",
    "    \n",
    "    model.save_pretrained('./t5_model/')\n",
    "    print(f'Epoch [{epoch + 1}/{EPOCHS}]. ' \\\n",
    "          f'Train Loss: {losses / len(train_loader):.3f}.')\n",
    "\n",
    "print('Training is finished!')"
   ]
  },
  {
   "cell_type": "markdown",
   "id": "7a22c2ba-651a-4308-ab3d-49746c0f6ef7",
   "metadata": {},
   "source": [
    "К сожалению, модели нужно больше эпох обучения, поэтому придётся  \n",
    "её дообучить. Так как я изначально думал, что трёх эпох будет  \n",
    "достаточно, то оформил код обучения не в виде функции, как это  \n",
    "обычно делаю, а просто кодом. Поэтому придётся немного продублировать  \n",
    "код, чтобы не менять уже запущенный код и не затирать аутпуты с прогрессом.  \n",
    "Снизим в 2 раза скорость обучения, т.к. оптимизатор Adam её постепенно  \n",
    "снижает, и мы не знаем, на каком значении остановилось обучение."
   ]
  },
  {
   "cell_type": "code",
   "execution_count": 21,
   "id": "c97c6d10-2c95-45dd-825d-7313f04d64bc",
   "metadata": {},
   "outputs": [],
   "source": [
    "model = AutoModelForSeq2SeqLM.from_pretrained('./t5_model/')"
   ]
  },
  {
   "cell_type": "code",
   "execution_count": 60,
   "id": "df9b8f9a-4e52-4f93-a192-ff65e607b9eb",
   "metadata": {},
   "outputs": [
    {
     "name": "stderr",
     "output_type": "stream",
     "text": [
      "100%|███████████████████████████████████████| 9500/9500 [31:31<00:00,  5.02it/s]\n"
     ]
    },
    {
     "name": "stdout",
     "output_type": "stream",
     "text": [
      "Epoch [1/5]. Train Loss: 7.025.\n"
     ]
    },
    {
     "name": "stderr",
     "output_type": "stream",
     "text": [
      "100%|███████████████████████████████████████| 9500/9500 [31:27<00:00,  5.03it/s]\n"
     ]
    },
    {
     "name": "stdout",
     "output_type": "stream",
     "text": [
      "Epoch [2/5]. Train Loss: 6.894.\n"
     ]
    },
    {
     "name": "stderr",
     "output_type": "stream",
     "text": [
      "100%|███████████████████████████████████████| 9500/9500 [31:21<00:00,  5.05it/s]\n"
     ]
    },
    {
     "name": "stdout",
     "output_type": "stream",
     "text": [
      "Epoch [3/5]. Train Loss: 6.779.\n"
     ]
    },
    {
     "name": "stderr",
     "output_type": "stream",
     "text": [
      "100%|███████████████████████████████████████| 9500/9500 [32:29<00:00,  4.87it/s]\n"
     ]
    },
    {
     "name": "stdout",
     "output_type": "stream",
     "text": [
      "Epoch [4/5]. Train Loss: 6.676.\n"
     ]
    },
    {
     "name": "stderr",
     "output_type": "stream",
     "text": [
      "100%|███████████████████████████████████████| 9500/9500 [31:52<00:00,  4.97it/s]\n"
     ]
    },
    {
     "name": "stdout",
     "output_type": "stream",
     "text": [
      "Epoch [5/5]. Train Loss: 6.588.\n",
      "Training is finished!\n"
     ]
    }
   ],
   "source": [
    "EPOCHS = 5\n",
    "\n",
    "torch.random.manual_seed(RANDOM_STATE)\n",
    "torch.backends.cudnn.deterministic = True\n",
    "\n",
    "model = model.to(device)\n",
    "\n",
    "optimizer = torch.optim.Adam(model.lm_head.parameters(), lr=5e-6)\n",
    "\n",
    "for epoch in range(EPOCHS):\n",
    "    \n",
    "    losses = 0.\n",
    "    \n",
    "    for data in tqdm(train_loader):\n",
    "        model.train()\n",
    "        \n",
    "        optimizer.zero_grad()\n",
    "        outputs = model(**data)\n",
    "\n",
    "        loss = outputs.loss\n",
    "        losses += outputs.loss.item()\n",
    "        loss.backward()\n",
    "        optimizer.step()\n",
    "    \n",
    "    model.save_pretrained('./t5_model/')\n",
    "    print(f'Epoch [{epoch + 1}/{EPOCHS}]. ' \\\n",
    "          f'Train Loss: {losses / len(train_loader):.3f}.')\n",
    "\n",
    "print('Training is finished!')"
   ]
  },
  {
   "cell_type": "markdown",
   "id": "983b19f6-31ec-4de5-aec8-4e53a11b828b",
   "metadata": {},
   "source": [
    "Посмотрим, как модель будет генерировать. Лосс, конечно, великоват."
   ]
  },
  {
   "cell_type": "code",
   "execution_count": 22,
   "id": "922a798a-fcd3-492a-b4e8-fef99b44751d",
   "metadata": {},
   "outputs": [],
   "source": [
    "def generate_title(index):\n",
    "    \n",
    "    model.eval()\n",
    "    \n",
    "    text = data_test.iloc[index]['text']\n",
    "    \n",
    "    generated_title = model.cpu().generate(\n",
    "           **tokenizer(text, return_tensors='pt'),\n",
    "           pad_token_id=model.config.pad_token_id,\n",
    "           eos_token_id=model.config.eos_token_id,\n",
    "           max_new_tokens=32,\n",
    "           do_sample=True,\n",
    "           temperature=1.0,\n",
    "           # num_beams=20,\n",
    "           top_k=5,\n",
    "           repetition_penalty=5.\n",
    "           )\n",
    "    \n",
    "    generated_title = tokenizer.decode(generated_title[0], skip_special_tokens=True)\n",
    "    \n",
    "    print(f'Текст:\\n\\n{text}\\n')\n",
    "    print(f'Сгенерированный заголовок:\\n\\n{generated_title}\\n')\n",
    "    print(f'Настоящий заголовок:\\n\\n{data_test.iloc[index][\"title\"]}\\n')\n",
    "    print('*' * 100, end='\\n\\n')"
   ]
  },
  {
   "cell_type": "code",
   "execution_count": 23,
   "id": "e1f0336a-23c3-43b7-a5ca-cc9f9f4cefe3",
   "metadata": {},
   "outputs": [
    {
     "name": "stdout",
     "output_type": "stream",
     "text": [
      "Текст:\n",
      "\n",
      "Взрыв рядом с российскими бронеавтомобилями произошел в Сирии на границе с Турцией. Об этом заявили в российском Центре по примирению враждующих сторон, передает ТАСС. Инцидент произошел во время подготовки встречи представителей российской военной полиции и турецкой стороны на погранпереходе ад-Дербасийя (провинция Хасеке). В центре подчеркнули, что подорвалось неустановленное безоболочное взрывное устройство. Произошедшее назвали безуспешной провокацией с целью сорвать мероприятие. До этого в Минобороны опровергли информацию о том, что российский военный патруль попал под обстрел в районе погранперехода ад-Дербасийя. СМИ сообщали, что полицейские проезжали мимо, когда с турецкой стороны был открыт минометный огонь. Ранее в октябре на север Сирии прибыли дополнительные российские военные полицейские. В их задачи входит обеспечивание безопасности населения, поддержание правопорядка и патрулирование районов в 30-километровой зоне на границе с Турцией. 22 октября президент России Владимир Путин и турецкий лидер Реджеп Тайип Эрдоган договорились о вводе на север Сирии российской военной полиции и сирийских военнослужащих, а также о прекращении турецкой военной операции «Источник мира». Россияне должны помочь контролирующим регион курдам отвести силы на расстояние до 32 километров от границы.\n",
      "\n",
      "Сгенерированный заголовок:\n",
      "\n",
      "СМИфор получмувзяты из Москву\n",
      "\n",
      "Настоящий заголовок:\n",
      "\n",
      "Встречу российских и турецких военных попытались сорвать взрывом\n",
      "\n",
      "****************************************************************************************************\n",
      "\n",
      "Текст:\n",
      "\n",
      "На МКАД произошло столкновение автокрана \"ЗИЛ-131\" с грузовиком, перевозившим бочки с токсичной жидкостью. Как сообщили РИА \"Новости\" в пятницу в пресс-службе Главного управления по делам гражданской обороны и чрезвычайным ситуациям Москвы, авария случилась в четверг, 7 июня, около 10 часов вечера. На четвертом километре внешнего кольца Московской кольцевой автодороги на \"Камаз\", перевозивший 16 тонн токсичной жидкости, налетел автокран \"ЗИЛ-131\". В результате столкновения погиб один из находившихся в кабине грузовика, а водитель автокрана получил травмы руки и позвоночника. Одна из бочек с ядовитым веществом разбилась, и ее содержимое вылилось на дорогу. Прибывшие на место аварии специалисты поисково-спасательных отрядов Главного управления по делам гражданской обороны и противопожарной службы обработали место разлива жидкости. В настоящее время оно не представляет собой опасности для окружающих. Сотрудники Центра экстренной медицинской помощи госпитализировали раненого. От вылившейся жидкости никто не пострадал.\n",
      "\n",
      "Сгенерированный заголовок:\n",
      "\n",
      "В Кий авария на дороги\n",
      "\n",
      "Настоящий заголовок:\n",
      "\n",
      "На МКАД автокран опрокинул \"Камаз\" с токсичной жидкостью — есть жертвы\n",
      "\n",
      "****************************************************************************************************\n",
      "\n",
      "Текст:\n",
      "\n",
      "Страны-члены НАТО договорились о запуске первой фазы системы противоракетной обороны (ПРО) в Европе, сообщает Agence France-Presse в воскресенье, 20 мая, со ссылкой на представителей альянса. По словам собеседников агентства, соответствующее соглашение было достигнуто в рамках саммита НАТО, открывшегося 20 мая в Чикаго. Запуск первой фазы ПРО, пояснили они, означает, что базирующийся в Турции американский военный корабль, оснащенный радаром и противоракетами, будет передан под контроль командования базы НАТО в Германии. Всего, как сообщалось ранее, систему ПРО планируется развертывать в четыре этапа, и завершить этот процесс в 2018 году. Элементы системы будут развернуты на территории нескольких стран, в частности, Польши, Румынии, Чехии, Турции, Нидерландов и Испании. НАТО настаивает, что система ПРО в Европе не направлена против России, а предназначена для отражения ракетной угрозы со стороны Ирана и КНДР. Россия, в свою очередь, считает ПРО у своих границ угрозой безопасности. В ответ на развертывание ПРО в Европе Россия пообещала разместить в Калининградской области и в Белоруссии тактические ракетные комплексы \"Искандер\". Россия также требовала юридических гарантий ненаправленности ПРО против нее и предлагала создать совместную с НАТО систему противоракетной обороны. Однако США и НАТО в целом отказались предоставить РФ подобные гарантии и сочли нецелесообразным создание совместной ПРО. Предполагалось, что развертывание системы ПРО в Европе - один из наиболее острых вопросов в российско-американских отношениях - президенты США и РФ обсудят во время саммита \"Большой восьмерки\". Однако из-за того, что Россию на саммите, прошедшем 18-19 мая в США, представлял не президент Владимир Путин, а премьер-министр Дмитрий Медведев, полноценные переговоры по ПРО в Европе проведены не были. Тем не менее, генсек НАТО Андерс Фог Расмуссен пообещал, что диалог с Россией по вопросам противоракетной обороны продолжится. На пресс-конференции в Чикаго он заявил, что альянс хотел бы достичь соглашения с Москвой.\n",
      "\n",
      "Сгенерированный заголовок:\n",
      "\n",
      "Россия время рампом заение на\n",
      "\n",
      "Настоящий заголовок:\n",
      "\n",
      "НАТО приступило к развертыванию системы ПРО в Европе\n",
      "\n",
      "****************************************************************************************************\n",
      "\n"
     ]
    }
   ],
   "source": [
    "for i in torch.randint(low=0, high=len(data_test), size=(3,)):\n",
    "    generate_title(i.item())"
   ]
  },
  {
   "cell_type": "markdown",
   "id": "10abf83e-0d3d-46ee-98f0-51104139be68",
   "metadata": {},
   "source": [
    "<ins>Вывод:</ins>  \n",
    "Дообучили предобученную модель Т5 под задачу суммаризации. Результат,  \n",
    "мягко говоря, получился не очень хорошим. Предположу, что не хватило  \n",
    "эпох обучения. Также непонятно, насколько хорошо подобран коэффициент  \n",
    "скорости обучения, возможно, стоило его повысить. Учитывая, что каждая  \n",
    "эпоха обучается полчаса, то особо не было времени поэкспериментировать  \n",
    "с гиперпараметрами. Датасет и модель оказались очень требовательными к  \n",
    "ресурсам. Несмотря на неплохую видеокарту с не самым маленьким объёмом  \n",
    "видеопамяти (8 ГБ), в неё смог влезть только батч размером в единицу."
   ]
  }
 ],
 "metadata": {
  "kernelspec": {
   "display_name": "Python 3 (ipykernel)",
   "language": "python",
   "name": "python3"
  },
  "language_info": {
   "codemirror_mode": {
    "name": "ipython",
    "version": 3
   },
   "file_extension": ".py",
   "mimetype": "text/x-python",
   "name": "python",
   "nbconvert_exporter": "python",
   "pygments_lexer": "ipython3",
   "version": "3.10.7"
  }
 },
 "nbformat": 4,
 "nbformat_minor": 5
}
