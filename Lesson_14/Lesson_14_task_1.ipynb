{
 "cells": [
  {
   "cell_type": "markdown",
   "id": "2a173094-f29d-4d36-ad32-f827ec10baa3",
   "metadata": {},
   "source": [
    "## Практическое задание к уроку 14 по теме \"Transfer learning\"."
   ]
  },
  {
   "cell_type": "markdown",
   "id": "e186b0cb-f4e4-48a0-b61c-302838d4908a",
   "metadata": {},
   "source": [
    "*Взять данные из https://www.kaggle.com/datasets/mrapplexz/bashim-quotes  \n",
    "обучить модель GPT для генерации своих цитат*"
   ]
  },
  {
   "cell_type": "markdown",
   "id": "c605c5fd-ac14-4f5e-8aec-f7bc3e224b6e",
   "metadata": {},
   "source": [
    "В данной задаче обучу с нуля модель GPT-2 и токенизатор для неё,  \n",
    "а потом посмотрим, как она будет генерировать цитаты. Хоть тема  \n",
    "урока, вроде бы, и предусматривает использование предобученной  \n",
    "модели и дальнейшее её дообучение, но так мы часто делаем, и в  \n",
    "этот раз хотелось бы всё сделать с нуля. В качестве transfer learning  \n",
    "возьмём только архитектуру GPT-2."
   ]
  },
  {
   "cell_type": "markdown",
   "id": "27ce4f05-c7dd-47ac-a514-6aaec3e0fd5c",
   "metadata": {},
   "source": [
    "Загрузим библиотеки и датасет:"
   ]
  },
  {
   "cell_type": "code",
   "execution_count": 1,
   "id": "357fda9f-2872-4a2a-9b79-163464532522",
   "metadata": {},
   "outputs": [],
   "source": [
    "%matplotlib inline\n",
    "\n",
    "from datasets import load_dataset\n",
    "import matplotlib.pyplot as plt\n",
    "import numpy as np\n",
    "import pandas as pd\n",
    "import re\n",
    "from time import time\n",
    "from tokenizers import Tokenizer\n",
    "from tokenizers.decoders import WordPiece\n",
    "from tokenizers.models import BPE\n",
    "from tokenizers.normalizers import StripAccents\n",
    "from tokenizers.pre_tokenizers import Whitespace\n",
    "from tokenizers.trainers import BpeTrainer\n",
    "import torch\n",
    "from torch import nn\n",
    "from torchinfo import summary\n",
    "from transformers import GPT2Config, GPT2LMHeadModel\n",
    "from tqdm import tqdm"
   ]
  },
  {
   "cell_type": "code",
   "execution_count": 2,
   "id": "38f502fa-8333-49d1-9fd4-6d4308c2d997",
   "metadata": {},
   "outputs": [],
   "source": [
    "RANDOM_STATE = 29"
   ]
  },
  {
   "cell_type": "code",
   "execution_count": 3,
   "id": "79aaa95c-ca05-49a2-9280-198ad4668610",
   "metadata": {},
   "outputs": [
    {
     "name": "stderr",
     "output_type": "stream",
     "text": [
      "Using custom data configuration default-93d1eaaef032e4bd\n",
      "Found cached dataset json (/home/shkin/.cache/huggingface/datasets/json/default-93d1eaaef032e4bd/0.0.0/0f7e3662623656454fcd2b650f34e886a7db4b9104504885bd462096cc7a9f51)\n"
     ]
    }
   ],
   "source": [
    "dataset = load_dataset('json', data_files='./dataset.jsonl', split='train')"
   ]
  },
  {
   "cell_type": "code",
   "execution_count": 4,
   "id": "d8189f17-10d6-4b1e-a219-c3e8c41843b4",
   "metadata": {},
   "outputs": [
    {
     "data": {
      "text/plain": [
       "Dataset({\n",
       "    features: ['id', 'date', 'rating', 'text'],\n",
       "    num_rows: 81497\n",
       "})"
      ]
     },
     "execution_count": 4,
     "metadata": {},
     "output_type": "execute_result"
    }
   ],
   "source": [
    "dataset"
   ]
  },
  {
   "cell_type": "code",
   "execution_count": 5,
   "id": "f640ee22-aae4-43d7-a65b-1f4fe6a01b37",
   "metadata": {},
   "outputs": [
    {
     "data": {
      "text/html": [
       "<div>\n",
       "<style scoped>\n",
       "    .dataframe tbody tr th:only-of-type {\n",
       "        vertical-align: middle;\n",
       "    }\n",
       "\n",
       "    .dataframe tbody tr th {\n",
       "        vertical-align: top;\n",
       "    }\n",
       "\n",
       "    .dataframe thead th {\n",
       "        text-align: right;\n",
       "    }\n",
       "</style>\n",
       "<table border=\"1\" class=\"dataframe\">\n",
       "  <thead>\n",
       "    <tr style=\"text-align: right;\">\n",
       "      <th></th>\n",
       "      <th>id</th>\n",
       "      <th>date</th>\n",
       "      <th>rating</th>\n",
       "      <th>text</th>\n",
       "    </tr>\n",
       "  </thead>\n",
       "  <tbody>\n",
       "    <tr>\n",
       "      <th>0</th>\n",
       "      <td>1</td>\n",
       "      <td>2004-08-30 11:24:00</td>\n",
       "      <td>22010</td>\n",
       "      <td>&lt;Ares&gt; ppdv, все юниксы очень дружелюбны.. они...</td>\n",
       "    </tr>\n",
       "    <tr>\n",
       "      <th>1</th>\n",
       "      <td>2</td>\n",
       "      <td>2004-08-30 11:25:00</td>\n",
       "      <td>25105</td>\n",
       "      <td>&lt;томатик_рад&gt; а ты не чувствуешь красоту мира?...</td>\n",
       "    </tr>\n",
       "    <tr>\n",
       "      <th>2</th>\n",
       "      <td>3</td>\n",
       "      <td>2004-08-30 11:27:00</td>\n",
       "      <td>7192</td>\n",
       "      <td>&lt;Дор&gt; \"мышка, почему у тебя такие большие глаз...</td>\n",
       "    </tr>\n",
       "    <tr>\n",
       "      <th>3</th>\n",
       "      <td>4</td>\n",
       "      <td>2004-08-30 11:28:00</td>\n",
       "      <td>29169</td>\n",
       "      <td>&lt;PPDV[os2]&gt; \"Мальчики, вы что больные, бегать ...</td>\n",
       "    </tr>\n",
       "    <tr>\n",
       "      <th>4</th>\n",
       "      <td>5</td>\n",
       "      <td>2004-08-30 11:26:00</td>\n",
       "      <td>7140</td>\n",
       "      <td>&lt;Ohtori_Akio&gt; мы - как разработчики - живём с ...</td>\n",
       "    </tr>\n",
       "  </tbody>\n",
       "</table>\n",
       "</div>"
      ],
      "text/plain": [
       "   id                date  rating  \\\n",
       "0   1 2004-08-30 11:24:00   22010   \n",
       "1   2 2004-08-30 11:25:00   25105   \n",
       "2   3 2004-08-30 11:27:00    7192   \n",
       "3   4 2004-08-30 11:28:00   29169   \n",
       "4   5 2004-08-30 11:26:00    7140   \n",
       "\n",
       "                                                text  \n",
       "0  <Ares> ppdv, все юниксы очень дружелюбны.. они...  \n",
       "1  <томатик_рад> а ты не чувствуешь красоту мира?...  \n",
       "2  <Дор> \"мышка, почему у тебя такие большие глаз...  \n",
       "3  <PPDV[os2]> \"Мальчики, вы что больные, бегать ...  \n",
       "4  <Ohtori_Akio> мы - как разработчики - живём с ...  "
      ]
     },
     "execution_count": 5,
     "metadata": {},
     "output_type": "execute_result"
    }
   ],
   "source": [
    "pd.DataFrame(dataset[:5])"
   ]
  },
  {
   "cell_type": "code",
   "execution_count": 6,
   "id": "ccf3b3c9-0bcc-4119-ad87-1ac69cb7cc4e",
   "metadata": {},
   "outputs": [],
   "source": [
    "train = dataset['text']"
   ]
  },
  {
   "cell_type": "code",
   "execution_count": 7,
   "id": "c3f56642-9932-485c-9b6d-03beb31e191b",
   "metadata": {},
   "outputs": [
    {
     "data": {
      "text/plain": [
       "['<Ares> ppdv, все юниксы очень дружелюбны.. они просто очень разборчивы в друзьях ;)',\n",
       " '<томатик_рад> а ты не чувствуешь красоту мира?\\n<fox> честно говоря, я сейчас чувствую только отсутствие http.\\n<томатик_рад> не туда смотришь, глянь вокруг!\\n<fox> как я гляну, если http не работает? :/',\n",
       " '<Дор> \"мышка, почему у тебя такие большие глаза?\" УЙДИ!!! я ХАРАКИРИ делаю!!!!!!',\n",
       " '<PPDV[os2]> \"Мальчики, вы что больные, бегать в палату к девочкам?! - Если б мы были больные - мы б бегали к другим мальчикам\"',\n",
       " '<Ohtori_Akio> мы - как разработчики - живём с субейзом под одбц. \\n<Ohtori_Akio> лучше бы мы жили в пещере с гоблинами.',\n",
       " '<Ohtori_Akio> о чём ни спроси - все обычно советуют сменить операционку, потом железо, потом страну пребывания, ориентацию, всё, что угодно... вместо того, чтобы подсказать нужную настройку в софтине.',\n",
       " '<Hellcat> Настояший программер пьёт один раз в день - с утра и до вечера',\n",
       " '<Kosh_подстригся> мой критерий в аниме - много крови и много теток с эээ... тетки короче... ну такие чтобы было понятно что это _ТЕТКИ_ \\n<Kosh_подстригся> а Акума сказал что под этот критерий можно сделать аниме про мужика порезавшегося в женской бане',\n",
       " '<Дор> о!! похавать надо пойти - у меня цветная капуста стынет \\n<Дор> .. в жилах',\n",
       " '<ZartWork> каждый Зерг должен построить чвототам, посадить ещеченить и родить ларву']"
      ]
     },
     "execution_count": 7,
     "metadata": {},
     "output_type": "execute_result"
    }
   ],
   "source": [
    "train[:10]"
   ]
  },
  {
   "cell_type": "markdown",
   "id": "afaf20da-04d8-4576-bba1-10fbbb4c3c8d",
   "metadata": {},
   "source": [
    "Напишем функцию предобработки. В ней буду заменять ники  \n",
    "пользователей в угловых скобках на числа для обобщения.  \n",
    "Также добавлю специальные токены. Несмотря на то, что  \n",
    "можно задать правило для пост-обработчика (post_processor)  \n",
    "токенайзера и автоматизировать этот процесс, настройка  \n",
    "недостаточно гибкая, так как я хотел бы разделять цитаты  \n",
    "каждого пользователя спецтокеном \\[SEP\\] и при этом подавать  \n",
    "всю цитату целиком. В пост-обработчике нельзя разделить  \n",
    "текст на части, а подавать текст парами тоже не вариант,  \n",
    "так как иногда количество реплик в цитате более двух.  \n",
    "  \n",
    "UPD: Здесь использую токен \\[CLS\\], хотя такое обозначение  \n",
    "более характерно для Берта и cls-пулинга. Более правильно  \n",
    "было бы использовать \\[BOS\\] или \\<\\s\\>, но так как мы обучаем  \n",
    "с нуля, это не имеет значения."
   ]
  },
  {
   "cell_type": "code",
   "execution_count": 8,
   "id": "256c42bd-48ab-4788-9b0a-5ee79651b114",
   "metadata": {},
   "outputs": [],
   "source": [
    "def preprocess(text):\n",
    "    text = '[CLS] ' + text + ' [EOS]'\n",
    "    text = re.sub('\\n', ' [SEP]\\n', text)\n",
    "    users = re.findall('<.+?>', text)\n",
    "    \n",
    "    if len(users) > 1:\n",
    "        for user in users:\n",
    "            text = text.replace(user, str(users.index(user)) + ':')\n",
    "    \n",
    "    # Если пользователь один, то убираем его ник\n",
    "    elif users:\n",
    "        text = text.replace(users[0], '')\n",
    "\n",
    "    return text"
   ]
  },
  {
   "cell_type": "markdown",
   "id": "35a42c2c-bc1e-4e21-966c-bd5bb4b114e6",
   "metadata": {},
   "source": [
    "Посмотрим, как будет выглядеть результат предобработки:"
   ]
  },
  {
   "cell_type": "code",
   "execution_count": 9,
   "id": "5d33a934-41bb-49f7-bc87-6fe9cb40e7d1",
   "metadata": {},
   "outputs": [
    {
     "name": "stdout",
     "output_type": "stream",
     "text": [
      "[CLS] 0: а ты не чувствуешь красоту мира? [SEP]\n",
      "1: честно говоря, я сейчас чувствую только отсутствие http. [SEP]\n",
      "0: не туда смотришь, глянь вокруг! [SEP]\n",
      "1: как я гляну, если http не работает? :/ [EOS]\n"
     ]
    }
   ],
   "source": [
    "print(preprocess(train[1]))"
   ]
  },
  {
   "cell_type": "markdown",
   "id": "e5b53f26-af9a-44b0-bec1-8a90ba196000",
   "metadata": {},
   "source": [
    "Инициализируем токенайзер, за его основу возьмём алгоритм BPE,  \n",
    "он используется и в предобученной GPT-2:"
   ]
  },
  {
   "cell_type": "code",
   "execution_count": 10,
   "id": "d49a731c-0bdf-4bff-92aa-dd352c427366",
   "metadata": {},
   "outputs": [],
   "source": [
    "tokenizer = Tokenizer(BPE(unk_token='[UNK]'))"
   ]
  },
  {
   "cell_type": "markdown",
   "id": "fcb847df-e6e8-40a1-9f2c-150aaf8cae7c",
   "metadata": {},
   "source": [
    "Зададим нормализатор токенайзера, который будет сразу убирать  \n",
    "ударения слов:"
   ]
  },
  {
   "cell_type": "code",
   "execution_count": 11,
   "id": "72f052a9-3dda-4e6b-bea5-cb6f1481ac30",
   "metadata": {},
   "outputs": [],
   "source": [
    "normalizer = StripAccents()\n",
    "tokenizer.normalizer = normalizer"
   ]
  },
  {
   "cell_type": "markdown",
   "id": "f407ddd4-acda-4345-b420-22caf8ae35ed",
   "metadata": {},
   "source": [
    "Зададим претокенайзер, который будет разделять текст на  \n",
    "токены по пробелам, а также выделять пунктуацию в отдельные  \n",
    "токены. Здесь имеем отличие от предобученной GPT-2, в которой  \n",
    "используется ByteLevel."
   ]
  },
  {
   "cell_type": "code",
   "execution_count": 12,
   "id": "786ae2fd-c297-4f86-87c8-3937e54132ef",
   "metadata": {},
   "outputs": [],
   "source": [
    "pretokenizer = Whitespace()\n",
    "tokenizer.pre_tokenizer = pretokenizer"
   ]
  },
  {
   "cell_type": "markdown",
   "id": "4d53d181-7f90-4bea-bf99-7cc44e14f9c7",
   "metadata": {},
   "source": [
    "Зададим размер словаря:"
   ]
  },
  {
   "cell_type": "code",
   "execution_count": 13,
   "id": "8184142d-0cc4-4417-8408-6ddd712966c9",
   "metadata": {},
   "outputs": [],
   "source": [
    "VOCAB_SIZE = 10000"
   ]
  },
  {
   "cell_type": "markdown",
   "id": "80c5877d-abbf-4de5-bbb7-fb0b515c4f07",
   "metadata": {},
   "source": [
    "Зададим трейнер, который будет обучать токенайзер:"
   ]
  },
  {
   "cell_type": "code",
   "execution_count": 14,
   "id": "78b21e2b-60f7-400c-a5e8-a2c243296d22",
   "metadata": {},
   "outputs": [],
   "source": [
    "trainer = BpeTrainer(vocab_size=VOCAB_SIZE,\n",
    "                     special_tokens=['[UNK]', '[CLS]', '[SEP]', '[PAD]', '[EOS]'],\n",
    "                     continuing_subword_prefix='##',\n",
    "                     show_progress=True)"
   ]
  },
  {
   "cell_type": "markdown",
   "id": "1e3c7d18-8913-43e8-8cd3-3effbf4e85e8",
   "metadata": {},
   "source": [
    "Обработаем тексты и посмотрим на них:"
   ]
  },
  {
   "cell_type": "code",
   "execution_count": 15,
   "id": "91c9600d-5d75-49ae-bed7-99b0fc083e1d",
   "metadata": {},
   "outputs": [],
   "source": [
    "train_processed = [preprocess(text) for text in train]"
   ]
  },
  {
   "cell_type": "code",
   "execution_count": 16,
   "id": "58b5314d-d0ab-4655-bab9-fa3e99315b29",
   "metadata": {},
   "outputs": [
    {
     "data": {
      "text/plain": [
       "['[CLS]  ppdv, все юниксы очень дружелюбны.. они просто очень разборчивы в друзьях ;) [EOS]',\n",
       " '[CLS] 0: а ты не чувствуешь красоту мира? [SEP]\\n1: честно говоря, я сейчас чувствую только отсутствие http. [SEP]\\n0: не туда смотришь, глянь вокруг! [SEP]\\n1: как я гляну, если http не работает? :/ [EOS]',\n",
       " '[CLS]  \"мышка, почему у тебя такие большие глаза?\" УЙДИ!!! я ХАРАКИРИ делаю!!!!!! [EOS]',\n",
       " '[CLS]  \"Мальчики, вы что больные, бегать в палату к девочкам?! - Если б мы были больные - мы б бегали к другим мальчикам\" [EOS]',\n",
       " '[CLS] 0: мы - как разработчики - живём с субейзом под одбц.  [SEP]\\n0: лучше бы мы жили в пещере с гоблинами. [EOS]']"
      ]
     },
     "execution_count": 16,
     "metadata": {},
     "output_type": "execute_result"
    }
   ],
   "source": [
    "train_processed[:5]"
   ]
  },
  {
   "cell_type": "markdown",
   "id": "98f30b80-eca1-46e3-9ba1-7b7858c5dac1",
   "metadata": {},
   "source": [
    "Обучим токенайзер на этих текстах:"
   ]
  },
  {
   "cell_type": "code",
   "execution_count": 17,
   "id": "cc959e5c-51b8-4e64-81e9-21a6d6a5b451",
   "metadata": {},
   "outputs": [
    {
     "name": "stdout",
     "output_type": "stream",
     "text": [
      "\n",
      "\n",
      "\n"
     ]
    }
   ],
   "source": [
    "tokenizer.train_from_iterator(train_processed, trainer=trainer)"
   ]
  },
  {
   "cell_type": "markdown",
   "id": "153126ab-1393-4e64-a571-a0a359e1dfbe",
   "metadata": {},
   "source": [
    "Убедимся, что в текстах хватило токенов для нашего словаря:"
   ]
  },
  {
   "cell_type": "code",
   "execution_count": 18,
   "id": "42e3adeb-7ebb-426a-a7d7-d2df71f47684",
   "metadata": {},
   "outputs": [
    {
     "data": {
      "text/plain": [
       "10000"
      ]
     },
     "execution_count": 18,
     "metadata": {},
     "output_type": "execute_result"
    }
   ],
   "source": [
    "len(tokenizer.get_vocab())"
   ]
  },
  {
   "cell_type": "code",
   "execution_count": 19,
   "id": "9badf9f0-5ce0-4bf7-8469-3b1489afafc4",
   "metadata": {},
   "outputs": [
    {
     "data": {
      "text/plain": [
       "10000"
      ]
     },
     "execution_count": 19,
     "metadata": {},
     "output_type": "execute_result"
    }
   ],
   "source": [
    "tokenizer.get_vocab_size()"
   ]
  },
  {
   "cell_type": "markdown",
   "id": "6d3b4df0-8e45-4d3e-bc38-372220e8c829",
   "metadata": {},
   "source": [
    "Для расшифровки сгенерированных текстов зададим декодер.  \n",
    "Он также отличен от декодера ByteLevel, используемого в  \n",
    "предобученной GPT-2."
   ]
  },
  {
   "cell_type": "code",
   "execution_count": 20,
   "id": "291152d3-ff88-49c9-acc5-5e37e8ccd8f3",
   "metadata": {},
   "outputs": [],
   "source": [
    "tokenizer.decoder = WordPiece()"
   ]
  },
  {
   "cell_type": "markdown",
   "id": "cafdb227-de8e-402c-93c3-dbbb9b48f024",
   "metadata": {},
   "source": [
    "Посмотрим, как токенизатор кодирует и декодирует:"
   ]
  },
  {
   "cell_type": "code",
   "execution_count": 21,
   "id": "b1c3159c-4aec-4322-9637-038b038f8ae3",
   "metadata": {},
   "outputs": [
    {
     "name": "stdout",
     "output_type": "stream",
     "text": [
      "['[CLS]', '0', ':', 'мы', '-', 'как', 'разработ', '##чики', '-', 'жив', '##ём', 'с', 'суб', '##ей', '##зом', 'под', 'од', '##б', '##ц', '.', '[SEP]', '0', ':', 'лучше', 'бы', 'мы', 'жили', 'в', 'пе', '##щ', '##ере', 'с', 'го', '##бли', '##нами', '.', '[EOS]']\n"
     ]
    }
   ],
   "source": [
    "print(tokenizer.encode(train_processed[4]).tokens)"
   ]
  },
  {
   "cell_type": "code",
   "execution_count": 22,
   "id": "7353293e-75aa-4e58-ad96-c02d717b966a",
   "metadata": {},
   "outputs": [
    {
     "name": "stdout",
     "output_type": "stream",
     "text": [
      "[1, 21, 31, 1047, 18, 880, 2876, 3194, 18, 2921, 1487, 256, 3729, 887, 4506, 932, 1037, 494, 530, 19, 2, 21, 31, 1641, 876, 1047, 7488, 241, 1511, 506, 883, 256, 886, 1793, 2496, 19, 4]\n"
     ]
    }
   ],
   "source": [
    "print(tokenizer.encode(train_processed[4]).ids)"
   ]
  },
  {
   "cell_type": "code",
   "execution_count": 23,
   "id": "6a05204f-09eb-4205-8d28-d702ff865441",
   "metadata": {},
   "outputs": [
    {
     "data": {
      "text/plain": [
       "'0 : мы - как разработчики - живём с субейзом под одбц. 0 : лучше бы мы жили в пещере с гоблинами.'"
      ]
     },
     "execution_count": 23,
     "metadata": {},
     "output_type": "execute_result"
    }
   ],
   "source": [
    "tokenizer.decode(tokenizer.encode(train_processed[4]).ids)"
   ]
  },
  {
   "cell_type": "markdown",
   "id": "99117961-8727-4f8e-beb6-e3aa0a0f1924",
   "metadata": {},
   "source": [
    "Для принятия решения о длине текстов построим гистограмму длин токенов:"
   ]
  },
  {
   "cell_type": "code",
   "execution_count": 24,
   "id": "76c2e4eb-29d7-4dc7-8791-93bac3a87dd1",
   "metadata": {},
   "outputs": [
    {
     "data": {
      "image/png": "[encoded data removed]",
      "text/plain": [
       "<Figure size 600x400 with 1 Axes>"
      ]
     },
     "metadata": {},
     "output_type": "display_data"
    }
   ],
   "source": [
    "plt.figure(figsize=(6, 4))\n",
    "\n",
    "plt.hist([len(tokenized.ids) for tokenized in tokenizer.encode_batch(train_processed)], bins=15)\n",
    "plt.title('Распределение длин текстов в токенах')\n",
    "plt.show()"
   ]
  },
  {
   "cell_type": "markdown",
   "id": "33a822d8-b442-45f8-a151-5fbe65aacf26",
   "metadata": {},
   "source": [
    "Будем использовать длину текстов в 512 токенов. Предобученная  \n",
    "GPT-2 использует 1024 токена."
   ]
  },
  {
   "cell_type": "code",
   "execution_count": 25,
   "id": "8753758d-2576-4d22-9e33-c320ff47bc2d",
   "metadata": {},
   "outputs": [],
   "source": [
    "MAX_LEN = 512"
   ]
  },
  {
   "cell_type": "markdown",
   "id": "b358a5c1-df3d-4649-99c1-06104c612e99",
   "metadata": {},
   "source": [
    "Зададим режим паддинга и truncation для токенайзера:"
   ]
  },
  {
   "cell_type": "code",
   "execution_count": 26,
   "id": "19831c11-a276-4fe1-bd75-7d7516e77b19",
   "metadata": {},
   "outputs": [
    {
     "data": {
      "text/plain": [
       "3"
      ]
     },
     "execution_count": 26,
     "metadata": {},
     "output_type": "execute_result"
    }
   ],
   "source": [
    "tokenizer.token_to_id('[PAD]')"
   ]
  },
  {
   "cell_type": "code",
   "execution_count": 27,
   "id": "8510940f-3d10-42e7-9133-d2b9ce8607f8",
   "metadata": {},
   "outputs": [],
   "source": [
    "tokenizer.enable_padding(pad_id=3, length=MAX_LEN)"
   ]
  },
  {
   "cell_type": "code",
   "execution_count": 28,
   "id": "505080a2-d3f3-4691-9d46-c6fbb1d1960c",
   "metadata": {},
   "outputs": [],
   "source": [
    "tokenizer.enable_truncation(max_length=MAX_LEN)"
   ]
  },
  {
   "cell_type": "markdown",
   "id": "9cfd7282-42f1-4729-a2a7-4e46c2314226",
   "metadata": {},
   "source": [
    "Зададим конфиг для модели GPT-2. В дефолтном конфиге  \n",
    "поменяем значение длины текстов и размер словаря. Также  \n",
    "укажем айдишники специальных токенов."
   ]
  },
  {
   "cell_type": "code",
   "execution_count": 29,
   "id": "dc26b98a-6c83-461c-86ec-2f874c218a4d",
   "metadata": {},
   "outputs": [
    {
     "data": {
      "text/plain": [
       "1"
      ]
     },
     "execution_count": 29,
     "metadata": {},
     "output_type": "execute_result"
    }
   ],
   "source": [
    "tokenizer.token_to_id('[CLS]')"
   ]
  },
  {
   "cell_type": "code",
   "execution_count": 30,
   "id": "e926bf2f-d909-4424-85f1-c58953f0a849",
   "metadata": {},
   "outputs": [
    {
     "data": {
      "text/plain": [
       "4"
      ]
     },
     "execution_count": 30,
     "metadata": {},
     "output_type": "execute_result"
    }
   ],
   "source": [
    "tokenizer.token_to_id('[EOS]')"
   ]
  },
  {
   "cell_type": "code",
   "execution_count": 31,
   "id": "00ad31d4-557e-4317-9ee7-a84995945c23",
   "metadata": {},
   "outputs": [
    {
     "data": {
      "text/plain": [
       "GPT2Config {\n",
       "  \"activation_function\": \"gelu_new\",\n",
       "  \"attn_pdrop\": 0.1,\n",
       "  \"bos_token_id\": 1,\n",
       "  \"embd_pdrop\": 0.1,\n",
       "  \"eos_token_id\": 4,\n",
       "  \"initializer_range\": 0.02,\n",
       "  \"layer_norm_epsilon\": 1e-05,\n",
       "  \"model_type\": \"gpt2\",\n",
       "  \"n_embd\": 768,\n",
       "  \"n_head\": 12,\n",
       "  \"n_inner\": null,\n",
       "  \"n_layer\": 12,\n",
       "  \"n_positions\": 512,\n",
       "  \"reorder_and_upcast_attn\": false,\n",
       "  \"resid_pdrop\": 0.1,\n",
       "  \"scale_attn_by_inverse_layer_idx\": false,\n",
       "  \"scale_attn_weights\": true,\n",
       "  \"summary_activation\": null,\n",
       "  \"summary_first_dropout\": 0.1,\n",
       "  \"summary_proj_to_labels\": true,\n",
       "  \"summary_type\": \"cls_index\",\n",
       "  \"summary_use_proj\": true,\n",
       "  \"transformers_version\": \"4.24.0\",\n",
       "  \"use_cache\": true,\n",
       "  \"vocab_size\": 10000\n",
       "}"
      ]
     },
     "execution_count": 31,
     "metadata": {},
     "output_type": "execute_result"
    }
   ],
   "source": [
    "config = GPT2Config(vocab_size=VOCAB_SIZE, \n",
    "                    bos_token_id=1, \n",
    "                    eos_token_id=4,\n",
    "                    n_positions=MAX_LEN)\n",
    "config"
   ]
  },
  {
   "cell_type": "markdown",
   "id": "1ed62dc6-0011-43bf-945b-5e1d45349fb3",
   "metadata": {},
   "source": [
    "Данный конфиг соответствует модели GPT-2 SMALL с 12 слоями  \n",
    "и размером эмбеддингов 768. Мы поменяли под нашу задачу только  \n",
    "длину текстов и размер словаря."
   ]
  },
  {
   "cell_type": "code",
   "execution_count": 32,
   "id": "efc0526b-af89-410a-b9b7-a7f502aaf208",
   "metadata": {},
   "outputs": [
    {
     "data": {
      "text/plain": [
       "'cuda'"
      ]
     },
     "execution_count": 32,
     "metadata": {},
     "output_type": "execute_result"
    }
   ],
   "source": [
    "device = 'cuda' if torch.cuda.is_available() else 'cpu'\n",
    "device"
   ]
  },
  {
   "cell_type": "markdown",
   "id": "c5718a12-bdfe-45ed-8328-0537fef49769",
   "metadata": {},
   "source": [
    "Напишем класс датасета. В нём будем делать токенизацию и формирование  \n",
    "словаря для передачи модели. В качестве таргетов будут токены, следующие  \n",
    "за текущим:"
   ]
  },
  {
   "cell_type": "code",
   "execution_count": 33,
   "id": "3eab524d-caa5-45b1-b985-ffceb6b8398e",
   "metadata": {},
   "outputs": [],
   "source": [
    "class BashDataset(torch.utils.data.Dataset):\n",
    "    def __init__(self, data):\n",
    "        self.encodings = tokenizer.encode_batch(data)\n",
    "\n",
    "    def __getitem__(self, index):\n",
    "        encoding = self.encodings[index]\n",
    "            \n",
    "        dictionary = {'input_ids': torch.IntTensor(encoding.ids).to(device),\n",
    "                      'attention_mask': torch.IntTensor(encoding.attention_mask).to(device),\n",
    "                      'token_type_ids': torch.IntTensor(encoding.type_ids).to(device)\n",
    "                     }\n",
    "        \n",
    "        inputs = {k: v[:-1] for k, v in dictionary.items()}\n",
    "        labels = dictionary['input_ids'][1:]\n",
    "        \n",
    "        return inputs, labels.long()\n",
    "    \n",
    "    def __len__(self):\n",
    "        return len(self.encodings)"
   ]
  },
  {
   "cell_type": "markdown",
   "id": "30e67cae-60e6-4b78-b592-145cda833456",
   "metadata": {},
   "source": [
    "Создадим даталоадер. Размер батча мал, но бОльшие значения  \n",
    "приводят к ошибке нехватки памяти при обучении."
   ]
  },
  {
   "cell_type": "code",
   "execution_count": 34,
   "id": "184452e7-5b7f-41e8-9495-25ea519256a7",
   "metadata": {
    "tags": []
   },
   "outputs": [],
   "source": [
    "dataset = BashDataset(train_processed)"
   ]
  },
  {
   "cell_type": "code",
   "execution_count": 35,
   "id": "5364bfd5-d3ff-49b8-af67-78628c1967cd",
   "metadata": {},
   "outputs": [],
   "source": [
    "BATCH_SIZE = 4"
   ]
  },
  {
   "cell_type": "code",
   "execution_count": 36,
   "id": "9bfc9e23-bd74-4792-9416-c5f81cd60690",
   "metadata": {},
   "outputs": [],
   "source": [
    "torch.random.manual_seed(RANDOM_STATE)\n",
    "\n",
    "loader = torch.utils.data.DataLoader(dataset,\n",
    "                                     batch_size=BATCH_SIZE,\n",
    "                                     shuffle=True)"
   ]
  },
  {
   "cell_type": "markdown",
   "id": "9c27139f-7dfd-4ce0-a470-5cd863296cc9",
   "metadata": {},
   "source": [
    "Посмотрим на модель:"
   ]
  },
  {
   "cell_type": "code",
   "execution_count": 37,
   "id": "bdd0dfad-037f-4860-90f1-a18f97c03ab5",
   "metadata": {},
   "outputs": [
    {
     "data": {
      "text/plain": [
       "===========================================================================\n",
       "Layer (type:depth-idx)                             Param #\n",
       "===========================================================================\n",
       "GPT2LMHeadModel                                    --\n",
       "├─GPT2Model: 1-1                                   --\n",
       "│    └─Embedding: 2-1                              7,680,000\n",
       "│    └─Embedding: 2-2                              393,216\n",
       "│    └─Dropout: 2-3                                --\n",
       "│    └─ModuleList: 2-4                             --\n",
       "│    │    └─GPT2Block: 3-1                         7,087,872\n",
       "│    │    └─GPT2Block: 3-2                         7,087,872\n",
       "│    │    └─GPT2Block: 3-3                         7,087,872\n",
       "│    │    └─GPT2Block: 3-4                         7,087,872\n",
       "│    │    └─GPT2Block: 3-5                         7,087,872\n",
       "│    │    └─GPT2Block: 3-6                         7,087,872\n",
       "│    │    └─GPT2Block: 3-7                         7,087,872\n",
       "│    │    └─GPT2Block: 3-8                         7,087,872\n",
       "│    │    └─GPT2Block: 3-9                         7,087,872\n",
       "│    │    └─GPT2Block: 3-10                        7,087,872\n",
       "│    │    └─GPT2Block: 3-11                        7,087,872\n",
       "│    │    └─GPT2Block: 3-12                        7,087,872\n",
       "│    └─LayerNorm: 2-5                              1,536\n",
       "├─Linear: 1-2                                      7,680,000\n",
       "===========================================================================\n",
       "Total params: 93,129,216\n",
       "Trainable params: 93,129,216\n",
       "Non-trainable params: 0\n",
       "==========================================================================="
      ]
     },
     "execution_count": 37,
     "metadata": {},
     "output_type": "execute_result"
    }
   ],
   "source": [
    "summary(GPT2LMHeadModel(config))"
   ]
  },
  {
   "cell_type": "markdown",
   "id": "867f4f2e-f170-4a46-8b86-f80485f96f3b",
   "metadata": {},
   "source": [
    "Итого нам нужно с нуля обучить 93 млн. параметров."
   ]
  },
  {
   "cell_type": "markdown",
   "id": "24135ed0-d73d-402e-ae94-39c6ecc9c4ad",
   "metadata": {},
   "source": [
    "Напишем функцию для более красивого вывода времени,  \n",
    "затраченного на обучение:"
   ]
  },
  {
   "cell_type": "code",
   "execution_count": 38,
   "id": "aabe57de-84e4-4577-937e-952a05265900",
   "metadata": {},
   "outputs": [],
   "source": [
    "def calc_time(start, end):\n",
    "    diff = end - start\n",
    "    mins = diff // 60\n",
    "    secs = diff % 60\n",
    "    return f'{int(mins)} min {int(secs)} s'"
   ]
  },
  {
   "cell_type": "markdown",
   "id": "6147e4b1-a3c4-4661-a16a-155afac30b2a",
   "metadata": {},
   "source": [
    "Напишем функцию обучения. В рамках функции есть возможность  \n",
    "дообучать модель, а также происходит сохранение модели в конце  \n",
    "каждой эпохи.  \n",
    "  \n",
    "UPD: Ещё реализован механизм поиска оптимального learning rate  \n",
    "с использованием scheduler, где мы линейно повышаем lr каждые 100  \n",
    "батчей и фиксируем текущий лосс, чтобы потом всё это отразить на  \n",
    "графике."
   ]
  },
  {
   "cell_type": "code",
   "execution_count": 39,
   "id": "aa831619-f7ec-4be0-ac2d-88dcbe1d4038",
   "metadata": {},
   "outputs": [],
   "source": [
    "def train_nn(epochs=5, lr=5e-5, searching_lr=False, warm_start=False, model=None):\n",
    "    \n",
    "    torch.random.manual_seed(RANDOM_STATE)\n",
    "    torch.backends.cudnn.deterministic = True\n",
    "    torch.cuda.empty_cache()\n",
    "    \n",
    "    if not warm_start:\n",
    "        net = GPT2LMHeadModel(config).to(device)\n",
    "    \n",
    "    else:\n",
    "        assert model is not None, 'Нужно передать модель в функцию, т.к. warm_start=True'\n",
    "        net = model.to(device)\n",
    "            \n",
    "    optimizer = torch.optim.Adam(net.parameters(), lr=lr)\n",
    "    criterion = nn.CrossEntropyLoss()\n",
    "\n",
    "    if searching_lr:\n",
    "        scheduler = torch.optim.lr_scheduler.LinearLR(optimizer, start_factor=0.0001, total_iters=len(loader) // 100)\n",
    "        losses_history = []\n",
    "        lr_history = []\n",
    "        counter = 0\n",
    "        end = scheduler.total_iters * 100\n",
    "    \n",
    "    for epoch in range(epochs):\n",
    "        start_time = time()\n",
    "        losses = 0.\n",
    "        \n",
    "        for inputs, labels in tqdm(loader):\n",
    "            net.train()\n",
    "\n",
    "            optimizer.zero_grad()\n",
    "            outputs = net(**inputs)[0].permute(0, 2, 1)\n",
    "            \n",
    "            loss = criterion(outputs, labels)\n",
    "            loss.backward()\n",
    "            optimizer.step()\n",
    "\n",
    "            losses += loss.item()\n",
    "\n",
    "            if searching_lr:\n",
    "                counter += 1\n",
    "                \n",
    "                if counter % 100 == 0:\n",
    "                    losses_history.append(loss.item())\n",
    "                    lr_history.extend(scheduler.get_last_lr())\n",
    "                    scheduler.step()\n",
    "                    \n",
    "                if counter >= end:\n",
    "                    return losses_history, lr_history\n",
    "        \n",
    "        net.save_pretrained('./model/')\n",
    "        \n",
    "        print(f'Epoch [{epoch + 1}/{epochs}]. ' \\\n",
    "              f'Loss: {losses / len(loader):.3f}. ' \\\n",
    "              f'Time: {calc_time(start_time, time())}.')\n",
    "\n",
    "    print('Training is finished!')\n",
    "    return net"
   ]
  },
  {
   "cell_type": "markdown",
   "id": "c28b2b7a-24a3-44b2-be25-86f302f46107",
   "metadata": {},
   "source": [
    "Обучим почти одну эпоху целиком, чтобы найти оптимальный lr:"
   ]
  },
  {
   "cell_type": "code",
   "execution_count": 40,
   "id": "b7d392eb-5f71-4b03-9ebe-246034c07e0a",
   "metadata": {},
   "outputs": [
    {
     "name": "stderr",
     "output_type": "stream",
     "text": [
      "100%|██████████████████████████████████▊| 20299/20375 [1:31:19<00:20,  3.70it/s]\n"
     ]
    }
   ],
   "source": [
    "losses, lrs = train_nn(epochs=1, lr=1e-2, searching_lr=True)"
   ]
  },
  {
   "cell_type": "markdown",
   "id": "e45f0d4d-6c3d-4e3b-9247-babed9880ed9",
   "metadata": {},
   "source": [
    "Построим график:"
   ]
  },
  {
   "cell_type": "code",
   "execution_count": 43,
   "id": "169afb7b-3df5-4d2c-84e2-3b89e06574bc",
   "metadata": {},
   "outputs": [
    {
     "data": {
      "image/png": "[encoded data removed]",
      "text/plain": [
       "<Figure size 600x400 with 1 Axes>"
      ]
     },
     "metadata": {},
     "output_type": "display_data"
    }
   ],
   "source": [
    "plt.figure(figsize=(6, 4))\n",
    "plt.semilogx(lrs, losses)\n",
    "plt.axis([1e-6, 1e-2, 0, 3])\n",
    "plt.show()"
   ]
  },
  {
   "cell_type": "markdown",
   "id": "173949ee-8520-4e9d-b644-6d6e9d1c960e",
   "metadata": {},
   "source": [
    "Судя по графику, возьмём значение lr, равное 0,00003.  \n",
    "При таком значении лосс ещё стабильно убывает и не \"перепрыгивает\"  \n",
    "минимумы."
   ]
  },
  {
   "cell_type": "markdown",
   "id": "c11f6b68-2a9b-45cc-8abd-71101d4daac7",
   "metadata": {},
   "source": [
    "Обучим модель:"
   ]
  },
  {
   "cell_type": "code",
   "execution_count": 40,
   "id": "2e59eaaa-eb79-4c78-87e1-bd50f880de19",
   "metadata": {},
   "outputs": [
    {
     "name": "stderr",
     "output_type": "stream",
     "text": [
      "100%|███████████████████████████████████| 20375/20375 [1:33:39<00:00,  3.63it/s]\n"
     ]
    },
    {
     "name": "stdout",
     "output_type": "stream",
     "text": [
      "Epoch [1/10]. Loss: 0.908. Time: 93 min 40 s.\n"
     ]
    },
    {
     "name": "stderr",
     "output_type": "stream",
     "text": [
      "100%|███████████████████████████████████| 20375/20375 [1:41:53<00:00,  3.33it/s]\n"
     ]
    },
    {
     "name": "stdout",
     "output_type": "stream",
     "text": [
      "Epoch [2/10]. Loss: 0.771. Time: 101 min 54 s.\n"
     ]
    },
    {
     "name": "stderr",
     "output_type": "stream",
     "text": [
      "100%|███████████████████████████████████| 20375/20375 [1:31:30<00:00,  3.71it/s]\n"
     ]
    },
    {
     "name": "stdout",
     "output_type": "stream",
     "text": [
      "Epoch [3/10]. Loss: 0.710. Time: 91 min 31 s.\n"
     ]
    },
    {
     "name": "stderr",
     "output_type": "stream",
     "text": [
      "100%|███████████████████████████████████| 20375/20375 [1:31:25<00:00,  3.71it/s]\n"
     ]
    },
    {
     "name": "stdout",
     "output_type": "stream",
     "text": [
      "Epoch [4/10]. Loss: 0.669. Time: 91 min 27 s.\n"
     ]
    },
    {
     "name": "stderr",
     "output_type": "stream",
     "text": [
      "100%|███████████████████████████████████| 20375/20375 [1:31:32<00:00,  3.71it/s]\n"
     ]
    },
    {
     "name": "stdout",
     "output_type": "stream",
     "text": [
      "Epoch [5/10]. Loss: 0.636. Time: 91 min 33 s.\n"
     ]
    },
    {
     "name": "stderr",
     "output_type": "stream",
     "text": [
      "100%|███████████████████████████████████| 20375/20375 [1:31:41<00:00,  3.70it/s]\n"
     ]
    },
    {
     "name": "stdout",
     "output_type": "stream",
     "text": [
      "Epoch [6/10]. Loss: 0.609. Time: 91 min 42 s.\n"
     ]
    },
    {
     "name": "stderr",
     "output_type": "stream",
     "text": [
      "100%|███████████████████████████████████| 20375/20375 [1:31:22<00:00,  3.72it/s]\n"
     ]
    },
    {
     "name": "stdout",
     "output_type": "stream",
     "text": [
      "Epoch [7/10]. Loss: 0.585. Time: 91 min 23 s.\n"
     ]
    },
    {
     "name": "stderr",
     "output_type": "stream",
     "text": [
      "100%|███████████████████████████████████| 20375/20375 [1:32:09<00:00,  3.68it/s]\n"
     ]
    },
    {
     "name": "stdout",
     "output_type": "stream",
     "text": [
      "Epoch [8/10]. Loss: 0.562. Time: 92 min 11 s.\n"
     ]
    },
    {
     "name": "stderr",
     "output_type": "stream",
     "text": [
      "100%|███████████████████████████████████| 20375/20375 [1:32:13<00:00,  3.68it/s]\n"
     ]
    },
    {
     "name": "stdout",
     "output_type": "stream",
     "text": [
      "Epoch [9/10]. Loss: 0.540. Time: 92 min 14 s.\n"
     ]
    },
    {
     "name": "stderr",
     "output_type": "stream",
     "text": [
      "100%|███████████████████████████████████| 20375/20375 [1:32:25<00:00,  3.67it/s]\n"
     ]
    },
    {
     "name": "stdout",
     "output_type": "stream",
     "text": [
      "Epoch [10/10]. Loss: 0.518. Time: 92 min 27 s.\n",
      "Training is finished!\n"
     ]
    }
   ],
   "source": [
    "model = train_nn(epochs=10, lr=3e-5)"
   ]
  },
  {
   "cell_type": "markdown",
   "id": "999158f9-dbaf-4698-8f63-2ba597faced0",
   "metadata": {},
   "source": [
    "Лосс ещё слишком велик, и генерация оставляет желать лучшего,  \n",
    "поэтому дообучим модель ещё на 5 эпох:"
   ]
  },
  {
   "cell_type": "code",
   "execution_count": 42,
   "id": "b82b7928-0b16-4b28-9b99-89b1a03a12b4",
   "metadata": {},
   "outputs": [
    {
     "name": "stderr",
     "output_type": "stream",
     "text": [
      "100%|███████████████████████████████████| 20375/20375 [1:33:20<00:00,  3.64it/s]\n"
     ]
    },
    {
     "name": "stdout",
     "output_type": "stream",
     "text": [
      "Epoch [1/5]. Loss: 0.528. Time: 93 min 22 s.\n"
     ]
    },
    {
     "name": "stderr",
     "output_type": "stream",
     "text": [
      "100%|███████████████████████████████████| 20375/20375 [1:37:55<00:00,  3.47it/s]\n"
     ]
    },
    {
     "name": "stdout",
     "output_type": "stream",
     "text": [
      "Epoch [2/5]. Loss: 0.491. Time: 97 min 57 s.\n"
     ]
    },
    {
     "name": "stderr",
     "output_type": "stream",
     "text": [
      "100%|███████████████████████████████████| 20375/20375 [1:34:41<00:00,  3.59it/s]\n"
     ]
    },
    {
     "name": "stdout",
     "output_type": "stream",
     "text": [
      "Epoch [3/5]. Loss: 0.468. Time: 94 min 42 s.\n"
     ]
    },
    {
     "name": "stderr",
     "output_type": "stream",
     "text": [
      "100%|███████████████████████████████████| 20375/20375 [1:34:24<00:00,  3.60it/s]\n"
     ]
    },
    {
     "name": "stdout",
     "output_type": "stream",
     "text": [
      "Epoch [4/5]. Loss: 0.447. Time: 94 min 26 s.\n"
     ]
    },
    {
     "name": "stderr",
     "output_type": "stream",
     "text": [
      "100%|███████████████████████████████████| 20375/20375 [1:39:28<00:00,  3.41it/s]\n"
     ]
    },
    {
     "name": "stdout",
     "output_type": "stream",
     "text": [
      "Epoch [5/5]. Loss: 0.428. Time: 99 min 29 s.\n",
      "Training is finished!\n"
     ]
    }
   ],
   "source": [
    "model = train_nn(epochs=5, lr=3e-5, warm_start=True, model=model)"
   ]
  },
  {
   "cell_type": "markdown",
   "id": "a0cade14-c2ec-4db0-877d-83cce53cc5b3",
   "metadata": {},
   "source": [
    "Интересный момент в том, что лосс после предыдущей серии эпох  \n",
    "сначала показал рост. Это связано с тем, что оптимизатор Adam  \n",
    "подстраивает скорость обучения индивидуально для каждого параметра,  \n",
    "в зависимости от величины градиента. При этом lr некоторых параметров  \n",
    "(возможно, всех) внутри уже был перестроен на более низкие значения.  \n",
    "А мы снова обучили с прежним lr.  \n",
    "  \n",
    "Дообучим ещё, теперь сразу понизим скорость обучения в 3 раза:"
   ]
  },
  {
   "cell_type": "code",
   "execution_count": 59,
   "id": "1889454a-c923-44ae-b2c1-af9386d27156",
   "metadata": {},
   "outputs": [
    {
     "name": "stderr",
     "output_type": "stream",
     "text": [
      "100%|███████████████████████████████████| 20375/20375 [1:34:48<00:00,  3.58it/s]\n"
     ]
    },
    {
     "name": "stdout",
     "output_type": "stream",
     "text": [
      "Epoch [1/5]. Loss: 0.345. Time: 94 min 50 s.\n"
     ]
    },
    {
     "name": "stderr",
     "output_type": "stream",
     "text": [
      "100%|███████████████████████████████████| 20375/20375 [1:31:39<00:00,  3.70it/s]\n"
     ]
    },
    {
     "name": "stdout",
     "output_type": "stream",
     "text": [
      "Epoch [2/5]. Loss: 0.317. Time: 91 min 41 s.\n"
     ]
    },
    {
     "name": "stderr",
     "output_type": "stream",
     "text": [
      "100%|███████████████████████████████████| 20375/20375 [1:31:37<00:00,  3.71it/s]\n"
     ]
    },
    {
     "name": "stdout",
     "output_type": "stream",
     "text": [
      "Epoch [3/5]. Loss: 0.296. Time: 91 min 39 s.\n"
     ]
    },
    {
     "name": "stderr",
     "output_type": "stream",
     "text": [
      "100%|███████████████████████████████████| 20375/20375 [1:31:37<00:00,  3.71it/s]\n"
     ]
    },
    {
     "name": "stdout",
     "output_type": "stream",
     "text": [
      "Epoch [4/5]. Loss: 0.276. Time: 91 min 38 s.\n"
     ]
    },
    {
     "name": "stderr",
     "output_type": "stream",
     "text": [
      "100%|███████████████████████████████████| 20375/20375 [1:31:41<00:00,  3.70it/s]\n"
     ]
    },
    {
     "name": "stdout",
     "output_type": "stream",
     "text": [
      "Epoch [5/5]. Loss: 0.256. Time: 91 min 42 s.\n",
      "Training is finished!\n"
     ]
    }
   ],
   "source": [
    "model = train_nn(epochs=5, lr=1e-5, warm_start=True, model=model)"
   ]
  },
  {
   "cell_type": "markdown",
   "id": "0af9584b-514a-4563-a832-d9a6f88dfe63",
   "metadata": {},
   "source": [
    "Такое резкое снижение лосса с предыдущей серии эпох, возможно,  \n",
    "связано с тем, что мы опять взяли слишком большой lr. Но, в отличие  \n",
    "от прошлого раза, мы не \"перепрыгнули\" минимум, а сделали бОльший  \n",
    "шаг в его направлении. Будем считать, что нам повезло.  \n",
    "Тем не менее, видно, что Adam постепенно привёл значение скорости  \n",
    "обучения в комфортную для себя норму.  \n",
    "  \n",
    "Данный результат всё равно пока ещё приводит к очень некачественной  \n",
    "генерации текста, поэтому сделаем ещё одну серию эпох. Сократим  \n",
    "скорость обучения ещё в 2 раза:"
   ]
  },
  {
   "cell_type": "code",
   "execution_count": 61,
   "id": "de3a3015-bdd4-4b9c-b7fa-fe1002625e82",
   "metadata": {},
   "outputs": [
    {
     "name": "stderr",
     "output_type": "stream",
     "text": [
      "100%|███████████████████████████████████| 20375/20375 [1:31:17<00:00,  3.72it/s]\n"
     ]
    },
    {
     "name": "stdout",
     "output_type": "stream",
     "text": [
      "Epoch [1/5]. Loss: 0.250. Time: 91 min 18 s.\n"
     ]
    },
    {
     "name": "stderr",
     "output_type": "stream",
     "text": [
      "100%|███████████████████████████████████| 20375/20375 [1:32:56<00:00,  3.65it/s]\n"
     ]
    },
    {
     "name": "stdout",
     "output_type": "stream",
     "text": [
      "Epoch [2/5]. Loss: 0.231. Time: 92 min 58 s.\n"
     ]
    },
    {
     "name": "stderr",
     "output_type": "stream",
     "text": [
      "100%|███████████████████████████████████| 20375/20375 [1:32:56<00:00,  3.65it/s]\n"
     ]
    },
    {
     "name": "stdout",
     "output_type": "stream",
     "text": [
      "Epoch [3/5]. Loss: 0.216. Time: 92 min 57 s.\n"
     ]
    },
    {
     "name": "stderr",
     "output_type": "stream",
     "text": [
      "100%|███████████████████████████████████| 20375/20375 [1:32:53<00:00,  3.66it/s]\n"
     ]
    },
    {
     "name": "stdout",
     "output_type": "stream",
     "text": [
      "Epoch [4/5]. Loss: 0.200. Time: 92 min 55 s.\n"
     ]
    },
    {
     "name": "stderr",
     "output_type": "stream",
     "text": [
      "100%|███████████████████████████████████| 20375/20375 [1:36:14<00:00,  3.53it/s]\n"
     ]
    },
    {
     "name": "stdout",
     "output_type": "stream",
     "text": [
      "Epoch [5/5]. Loss: 0.184. Time: 96 min 15 s.\n",
      "Training is finished!\n"
     ]
    }
   ],
   "source": [
    "model = train_nn(epochs=5, lr=5e-6, warm_start=True, model=model)"
   ]
  },
  {
   "cell_type": "markdown",
   "id": "65ac3de1-2637-4997-9657-ebe9fab01b28",
   "metadata": {},
   "source": [
    "Напишем функцию для генерации цитат:"
   ]
  },
  {
   "cell_type": "code",
   "execution_count": 65,
   "id": "08fc2b57-8a34-47e9-b0f2-fea5ccec81f3",
   "metadata": {},
   "outputs": [],
   "source": [
    "def generate_text():\n",
    "    model.eval()\n",
    "    text = model.generate(\n",
    "           pad_token_id=3,\n",
    "           bos_token_id=1,\n",
    "           eos_token_id=4,\n",
    "           max_new_tokens=511,\n",
    "           do_sample=True,\n",
    "           temperature=1.4,\n",
    "           num_beams=10,\n",
    "           top_k=20,\n",
    "           repetition_penalty=7.,\n",
    "           length_penalty=-0.4\n",
    "           )\n",
    "    \n",
    "    text = tokenizer.decode(text[0].tolist())\n",
    "    \n",
    "    # Обработаем тексовую выдачу. Добавим символы переноса строки,  \n",
    "    # где они должны быть\n",
    "    text = re.sub(r'\\s([xyzух]{3})', r'\\n\\1', text)\n",
    "    text = re.sub(r'\\s([012]\\s)', r'\\n\\1', text)\n",
    "    print(text, end='\\n\\n')\n",
    "    print('*' * 100, end='\\n\\n')"
   ]
  },
  {
   "cell_type": "markdown",
   "id": "b7793e80-7fa4-4688-92ae-81648988d087",
   "metadata": {},
   "source": [
    "Посмотрим на результаты работы модели:"
   ]
  },
  {
   "cell_type": "code",
   "execution_count": 67,
   "id": "04d60e6b-4ed4-4667-bcb8-7bf83cb21340",
   "metadata": {},
   "outputs": [
    {
     "name": "stdout",
     "output_type": "stream",
     "text": [
      "xxx : а у вас тоже есть знакомые которые по - разному методу?\n",
      "yyy : да. например, программисты. высылают перенослить капсу в виде слова \" на всякий случай \", \" на всякий случай \", \" и потом \", \" на самом деле \", \" перуитивно \".\n",
      "\n",
      "****************************************************************************************************\n",
      "\n",
      "xxx : у нас в городе есть традиция.\n",
      "xxx : которая по - прежнему спрашивает коммунальщика, как нам избавиться от современных проблем с животными, пока они не смогли совершить затворённые выражения \" оценок \".\n",
      "\n",
      "****************************************************************************************************\n",
      "\n",
      "xxx : А почему ты не помнишь, как это дела?\n",
      "yyy : Я в детстве любил много всякого мерить, что последовательного перевода я уже вполне себе предпочитаю мультимиллионное знание \" Зеленый Вилтон - Фищ \".\n",
      "\n",
      "****************************************************************************************************\n",
      "\n",
      "xxx : А у нас в городе есть магазин \" Пойматьваемое товары \". Они же там постоянно что - то покупают в магази, но потом жалуются, что им вообще не хватает финансовых людей.\n",
      "yyy : Это просто продавщицы знают, где купить книги с покупками матраца или фруктов.\n",
      "\n",
      "****************************************************************************************************\n",
      "\n",
      "xxx : а я в детстве думал что гомеопатия - это просто симптом\n",
      "\n",
      "****************************************************************************************************\n",
      "\n",
      "xxx : у меня кот тоже постоянно в треках ходит.\n",
      "yyy : это ты сейчас так под музыку пишешь?\n",
      "\n",
      "****************************************************************************************************\n",
      "\n",
      "xxx : а я не могу дозвониться с девушкой, у которой было 30 лет свободное место на винде\n",
      "yyy : это диагноз\n",
      "\n",
      "****************************************************************************************************\n",
      "\n",
      "xxx : Когда я была мелкой, мы с сестрой ходили на детскую площадку, из - за ухода в палатку, купили канализационный сад. Снимали эти канализационные голограмму ( по плану на прогулку ) и читали, как она имела красивое блюдо \" кинескопкие кроссовки \", отмыть колеса, котячьи всякими кусочками грибными красными тряпками. А вы тут – леопаты вот это всё ещё смешнее, наоборот, такие ноготочки, что насугольные животные растворченные потоки действуют себя исслей — выживали всю жильцы даже во время репчаниями или заболесловными стилизившими … ВАЗовскими целыми голыми руками клоповские солнцовыми капутами, которые говорят, а также вокруг Треть бегущие « суровые » шестойчивоствамиллиарской со щетами.\n",
      "\n",
      "****************************************************************************************************\n",
      "\n",
      "xxx : У нас тут такие расстройства в Израиль по низкой аттесской эксплуатации решили систему продажи алкоголя из Нижнего Норна. Дали сюда то, что эта штыковая планета предполагается обладает высоким единородностью, объезопасным принадлежающим Солнцем и действующим образом.\n",
      "yyy : Завис в том, что даже после того, как между нами становятся изучать космонавские чиновники тёмные потолки, есть несохметрочные прямые для наблюдения, а ещё и антибиотические ворота иммунизмы.\n",
      "\n",
      "****************************************************************************************************\n",
      "\n",
      "xxx : В детстве я считал, что гомофобы - это организм.\n",
      "xxx : А все остальное - социализм начался летать с тех пор, когда у тебя появятся чистыми ископаемыми перечислениями.\n",
      "\n",
      "****************************************************************************************************\n",
      "\n",
      "Генерация закончена!!!!!!!!!!\n"
     ]
    }
   ],
   "source": [
    "for _ in range(10):\n",
    "    generate_text()\n",
    "print('Генерация закончена!!!!!!!!!!')"
   ]
  },
  {
   "cell_type": "markdown",
   "id": "38370b41-2201-46d0-b14a-b3a95fd72c5e",
   "metadata": {},
   "source": [
    "<ins>Вывод:</ins>  \n",
    "Инициализировали своим конфигом и обучили модель GPT-2 с токенизатором.  \n",
    "Обучение одной эпохи занимало примерно полтора часа, поэтому пришлось  \n",
    "ограничить количество эпох, и результат генерации получился не очень  \n",
    "впечатляющим. Тем не менее, общие принципы обучающих текстов модель уловила.  \n",
    "Также на качестве генерирования мог сказаться относительно небольшой размер  \n",
    "словаря, но заранее выбрать оптимальный размер не так просто, а проводить  \n",
    "обучение заново - очень трудоёмко.  \n",
    "  \n",
    "Встретившиеся ситуации с выбором оптимального коэффициента обучения  \n",
    "привели меня к нескольким мыслям:  \n",
    "<ul>\n",
    "  \n",
    "<li>Лучше обучать модель за один подход, чтобы не вмешиваться в работу<br>\n",
    "оптимизатора, который сам настраивает значение lr. Но это трудноосуществимо,<br>\n",
    "ввиду того, что мы не знаем изначально, сколько эпох нам понадобится, а<br>\n",
    "переобучать потом заново - это \"выкинуть на ветер\" уже затраченное время<br>\n",
    "и ресурсы.</li>\n",
    "<br> \n",
    "<li>Если всё-таки нужно дообучить модель, то лучше снова проводить процедуру<br>\n",
    "поиска оптимального lr, как мы это делали перед началом обучения. Так мы,<br>\n",
    "конечно, потратим ресурсы, но при правильно подобранном коэффициенте<br>\n",
    "скорости обучения окажемся, в итоге, в плюсе и по затраченному времени,<br> \n",
    "и по качеству обучения.</li>\n",
    "<br> \n",
    "<li>А может быть, вместе с моделью возвращать оптимизатор? Тогда при дообучении<br>\n",
    "мы будем передавать его вместе с моделью в функцию. Тогда, по идее, для процесса<br>\n",
    "обучения не будет разницы, обучаем мы за один проход или несколько раз дообучаем.<br>\n",
    "Обязательно попробую такой подход в следующий раз.</li>\n",
    "</ul>\n",
    "  \n",
    "По итогу задания, отлично попрактиковались в полном цикле обучения модели  \n",
    "GPT-2 и перечитали много соответствующей документации."
   ]
  }
 ],
 "metadata": {
  "kernelspec": {
   "display_name": "Python 3 (ipykernel)",
   "language": "python",
   "name": "python3"
  },
  "language_info": {
   "codemirror_mode": {
    "name": "ipython",
    "version": 3
   },
   "file_extension": ".py",
   "mimetype": "text/x-python",
   "name": "python",
   "nbconvert_exporter": "python",
   "pygments_lexer": "ipython3",
   "version": "3.10.7"
  }
 },
 "nbformat": 4,
 "nbformat_minor": 5
}
