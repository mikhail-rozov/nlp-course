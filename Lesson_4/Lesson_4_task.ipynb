{
 "cells": [
  {
   "cell_type": "markdown",
   "id": "b992aa70-44fa-40e7-a854-82db8af7f819",
   "metadata": {},
   "source": [
    "## Практическое задание к уроку 4 по теме \"Тематическое моделирование. EM-алгоритм\"."
   ]
  },
  {
   "cell_type": "markdown",
   "id": "52746f4c-8a54-4a8a-b7a0-d68695ca45c7",
   "metadata": {},
   "source": [
    "*Взять ноутбук с вебинара изменить тематики (минимум 3 тематики\n",
    "взять) построить тематическую модель, попробовать проинтерпретировать\n",
    "полученные тематики. Насколько они похожи на то что вы выделяли из корпуса.\n",
    "Возможно большее количество тематик так же хорошо интерпретируется проверьте\n",
    "это. Подберите оптимальное количество тематик с точки зрения интерпретации\n",
    "результатов. Не забывайте чтобы получить хорошие тематики надо хорошо почистить\n",
    "тексты.*"
   ]
  },
  {
   "cell_type": "markdown",
   "id": "f9477735-0b42-40ad-a2af-2500fa7b91cc",
   "metadata": {},
   "source": [
    "Загрузим библиотеки и датасет:"
   ]
  },
  {
   "cell_type": "code",
   "execution_count": 1,
   "id": "d4d18ad0-8f39-44d8-989e-3faa75a75223",
   "metadata": {},
   "outputs": [],
   "source": [
    "%matplotlib inline\n",
    "\n",
    "from gensim.corpora import Dictionary\n",
    "from gensim.models import LdaModel, CoherenceModel\n",
    "import matplotlib.pyplot as plt\n",
    "from multiprocessing import Pool\n",
    "import pandas as pd; pd.set_option('max_colwidth', None)\n",
    "from pymorphy2 import MorphAnalyzer\n",
    "from razdel import tokenize\n",
    "import re\n",
    "from stop_words import get_stop_words\n",
    "from string import punctuation\n",
    "from tqdm import tqdm\n",
    "import warnings\n",
    "warnings.filterwarnings('ignore', category=DeprecationWarning)"
   ]
  },
  {
   "cell_type": "code",
   "execution_count": 2,
   "id": "91ea75ed-7d06-4caf-a876-58e365cf9ee6",
   "metadata": {},
   "outputs": [],
   "source": [
    "RANDOM_STATE = 29\n",
    "NUM_THREADS = 12"
   ]
  },
  {
   "cell_type": "code",
   "execution_count": 3,
   "id": "e72eaea8-6124-4f3c-a0d1-fcff54abb924",
   "metadata": {},
   "outputs": [
    {
     "data": {
      "text/html": [
       "<div>\n",
       "<style scoped>\n",
       "    .dataframe tbody tr th:only-of-type {\n",
       "        vertical-align: middle;\n",
       "    }\n",
       "\n",
       "    .dataframe tbody tr th {\n",
       "        vertical-align: top;\n",
       "    }\n",
       "\n",
       "    .dataframe thead th {\n",
       "        text-align: right;\n",
       "    }\n",
       "</style>\n",
       "<table border=\"1\" class=\"dataframe\">\n",
       "  <thead>\n",
       "    <tr style=\"text-align: right;\">\n",
       "      <th></th>\n",
       "      <th>text</th>\n",
       "    </tr>\n",
       "  </thead>\n",
       "  <tbody>\n",
       "    <tr>\n",
       "      <th>0</th>\n",
       "      <td>Вице-премьер по социальным вопросам Татьяна Голикова рассказала, в каких регионах России зафиксирована наиболее высокая смертность от рака, сообщает РИА Новости. По словам Голиковой, чаще всего онкологические заболевания становились причиной смерти в Псковской, Тверской, Тульской и Орловской областях, а также в Севастополе. Вице-премьер напомнила, что главные факторы смертности в России — рак и болезни системы кровообращения. В начале года стало известно, что смертность от онкологических заболеваний среди россиян снизилась впервые за три года. По данным Росстата, в 2017 году от рака умерли 289 тысяч человек. Это на 3,5 процента меньше, чем годом ранее.</td>\n",
       "    </tr>\n",
       "    <tr>\n",
       "      <th>1</th>\n",
       "      <td>Австрийские правоохранительные органы не представили доказательств нарушения российскими биатлонистами антидопинговых правил. Об этом сообщил посол России в Вене Дмитрий Любинский по итогам встречи уполномоченного адвоката дипмиссии с представителями прокуратуры страны, передает ТАСС. «Действует презумпция невиновности. Каких-либо ограничений свободы передвижения для команды нет», — добавили в посольстве. Международный союз биатлонистов (IBU) также не будет применять санкции к российским биатлонистам. Все они продолжат выступление на Кубке мира. Полиция нагрянула в отель сборной России в Хохфильцене вечером 12 декабря. Как написал биатлонист Александр Логинов, их считают виновными в махинациях с переливанием крови. Биатлонисту Антону Шипулину, также попавшему в список, полиция нанесла отдельный визит: сейчас он тренируется отдельно в австрийском Обертиллахе. Обвинения спортсмен назвал бредом, а также указал на «охоту на ведьм» в мировом биатлоне. В Австрии прием допинга — уголовное преступление. Максимальное наказание за его употребление — три года тюрьмы.</td>\n",
       "    </tr>\n",
       "    <tr>\n",
       "      <th>2</th>\n",
       "      <td>Сотрудники социальной сети Instagram проанализировали поставленные пользователями смайлики, геолокации и хештеги и опубликовали итоги 2018 года. Об этом сообщается на официальном сайте Instagram. Таким образом, самой счастливой геолокацией Instagram признал Диснейленд в Токио, так как больше всего счастливых смайликов в 2018 году пользователи ставили именно под фотографиями из японского Диснейленда. Также эксперты назвали самый популярный фильтр для лица: им стал фильтр с сердечками на глазах. А, например, самыми часто используемыми хештегами в 2018 году были #metoo, #timesup и #marchforourlives. В ноябре сотрудники британской ассоциации потребителей Which? составили рейтинг самых безопасных стран для путешествий. Специалисты проанализировали 20 самых популярных туристических направлений по четырем критериям: уровень преступности, угроза здоровью, вероятность теракта и стихийных бедствий. Самой безопасной страной по всем параметрам стала Исландия.</td>\n",
       "    </tr>\n",
       "  </tbody>\n",
       "</table>\n",
       "</div>"
      ],
      "text/plain": [
       "                                                                                                                                                                                                                                                                                                                                                                                                                                                                                                                                                                                                                                                                                                                                                                                                                                                                                                                                                                                                                                                                                                               text\n",
       "0                                                                                                                                                                                                                                                                                                                                                                                                                              Вице-премьер по социальным вопросам Татьяна Голикова рассказала, в каких регионах России зафиксирована наиболее высокая смертность от рака, сообщает РИА Новости. По словам Голиковой, чаще всего онкологические заболевания становились причиной смерти в Псковской, Тверской, Тульской и Орловской областях, а также в Севастополе. Вице-премьер напомнила, что главные факторы смертности в России — рак и болезни системы кровообращения. В начале года стало известно, что смертность от онкологических заболеваний среди россиян снизилась впервые за три года. По данным Росстата, в 2017 году от рака умерли 289 тысяч человек. Это на 3,5 процента меньше, чем годом ранее.\n",
       "1  Австрийские правоохранительные органы не представили доказательств нарушения российскими биатлонистами антидопинговых правил. Об этом сообщил посол России в Вене Дмитрий Любинский по итогам встречи уполномоченного адвоката дипмиссии с представителями прокуратуры страны, передает ТАСС. «Действует презумпция невиновности. Каких-либо ограничений свободы передвижения для команды нет», — добавили в посольстве. Международный союз биатлонистов (IBU) также не будет применять санкции к российским биатлонистам. Все они продолжат выступление на Кубке мира. Полиция нагрянула в отель сборной России в Хохфильцене вечером 12 декабря. Как написал биатлонист Александр Логинов, их считают виновными в махинациях с переливанием крови. Биатлонисту Антону Шипулину, также попавшему в список, полиция нанесла отдельный визит: сейчас он тренируется отдельно в австрийском Обертиллахе. Обвинения спортсмен назвал бредом, а также указал на «охоту на ведьм» в мировом биатлоне. В Австрии прием допинга — уголовное преступление. Максимальное наказание за его употребление — три года тюрьмы.\n",
       "2                                                                                                                 Сотрудники социальной сети Instagram проанализировали поставленные пользователями смайлики, геолокации и хештеги и опубликовали итоги 2018 года. Об этом сообщается на официальном сайте Instagram. Таким образом, самой счастливой геолокацией Instagram признал Диснейленд в Токио, так как больше всего счастливых смайликов в 2018 году пользователи ставили именно под фотографиями из японского Диснейленда. Также эксперты назвали самый популярный фильтр для лица: им стал фильтр с сердечками на глазах. А, например, самыми часто используемыми хештегами в 2018 году были #metoo, #timesup и #marchforourlives. В ноябре сотрудники британской ассоциации потребителей Which? составили рейтинг самых безопасных стран для путешествий. Специалисты проанализировали 20 самых популярных туристических направлений по четырем критериям: уровень преступности, угроза здоровью, вероятность теракта и стихийных бедствий. Самой безопасной страной по всем параметрам стала Исландия."
      ]
     },
     "execution_count": 3,
     "metadata": {},
     "output_type": "execute_result"
    }
   ],
   "source": [
    "df = pd.read_csv('../../Теория/Lesson_4/lenta-ru-news.csv', usecols=[2])\n",
    "df.shape\n",
    "df.head(3)"
   ]
  },
  {
   "cell_type": "markdown",
   "id": "3934072a-d756-4e64-8512-3ec7f749677b",
   "metadata": {},
   "source": [
    "Для увеличения скорости обработки текста и обучения моделей сделаем  \n",
    "выборку в 50 тыс. текстов:"
   ]
  },
  {
   "cell_type": "code",
   "execution_count": 4,
   "id": "118a2116-691e-43a9-aa90-0bafb6ce3cf1",
   "metadata": {},
   "outputs": [],
   "source": [
    "df = df.sample(50000, random_state=RANDOM_STATE)"
   ]
  },
  {
   "cell_type": "markdown",
   "id": "c6b810ea-2884-4d29-a258-0cea93a7814b",
   "metadata": {},
   "source": [
    "Загрузим стопслова:"
   ]
  },
  {
   "cell_type": "code",
   "execution_count": 5,
   "id": "0434d6cd-ea27-4d63-a7dd-2ce0a4d8af4f",
   "metadata": {},
   "outputs": [],
   "source": [
    "sw = get_stop_words('russian')"
   ]
  },
  {
   "cell_type": "markdown",
   "id": "edd2b112-0a68-4bcf-a885-b2310bc2c009",
   "metadata": {},
   "source": [
    "Лемматизацию будем проводить с помощью pymorphy2:"
   ]
  },
  {
   "cell_type": "code",
   "execution_count": 6,
   "id": "e1dafe10-63d7-42ca-9094-0014ed62ecf8",
   "metadata": {},
   "outputs": [],
   "source": [
    "lemmatizer = MorphAnalyzer()"
   ]
  },
  {
   "cell_type": "markdown",
   "id": "9001bd33-f319-464e-b638-e73427abc113",
   "metadata": {},
   "source": [
    "Сделаем обработку текста:"
   ]
  },
  {
   "cell_type": "code",
   "execution_count": 7,
   "id": "91613f1b-b6b4-4a52-8936-cc88ece73b40",
   "metadata": {},
   "outputs": [],
   "source": [
    "def process_text(text):\n",
    "        \n",
    "    # Чистим пунктуацию\n",
    "    text = re.sub(fr'[{punctuation}]+', ' ', text)\n",
    "    \n",
    "    # Убираем всё, не являющееся набором букв, в т.ч. цифры\n",
    "    text = ' '.join(word for word in text.split() if word.isalpha())\n",
    "    \n",
    "    # Токенизация с помощью библиотеки razdel\n",
    "    text = [token.text for token in list(tokenize(text))]\n",
    "    \n",
    "    # Лемматизация\n",
    "    text = [lemmatizer.parse(word)[0].normal_form for word in text]\n",
    "    \n",
    "    # Убираем стопслова\n",
    "    text = [word for word in text if word not in sw]\n",
    "    \n",
    "    # Возвращаем обработанный текст\n",
    "    return text"
   ]
  },
  {
   "cell_type": "code",
   "execution_count": 8,
   "id": "02359727-a5c7-4411-96cc-6ade38e76698",
   "metadata": {},
   "outputs": [
    {
     "name": "stderr",
     "output_type": "stream",
     "text": [
      "100%|████████████████████████████████████| 50000/50000 [03:39<00:00, 228.02it/s]\n"
     ]
    }
   ],
   "source": [
    "with Pool(NUM_THREADS) as p:\n",
    "    df['text'] = tqdm(p.imap(process_text, df['text']), total=len(df))"
   ]
  },
  {
   "cell_type": "code",
   "execution_count": 9,
   "id": "b0c47727-eb2c-426a-abef-3185ad6c3cd4",
   "metadata": {},
   "outputs": [
    {
     "data": {
      "text/html": [
       "<div>\n",
       "<style scoped>\n",
       "    .dataframe tbody tr th:only-of-type {\n",
       "        vertical-align: middle;\n",
       "    }\n",
       "\n",
       "    .dataframe tbody tr th {\n",
       "        vertical-align: top;\n",
       "    }\n",
       "\n",
       "    .dataframe thead th {\n",
       "        text-align: right;\n",
       "    }\n",
       "</style>\n",
       "<table border=\"1\" class=\"dataframe\">\n",
       "  <thead>\n",
       "    <tr style=\"text-align: right;\">\n",
       "      <th></th>\n",
       "      <th>text</th>\n",
       "    </tr>\n",
       "  </thead>\n",
       "  <tbody>\n",
       "    <tr>\n",
       "      <th>58102</th>\n",
       "      <td>[американский, актёр, марк, хэмилла, известный, роль, люк, скайоукер, фантастический, киноэпопея, поведать, быстрый, способ, стать, знаменитость, слово, сделать, шаг, передавать, портал, bt, среда, август, дело, шаг, взорвать, звезда, смерть, заслужить, благодарность, миллион, остаться, отметить, хэмилла, укрепить, свой, образ, благодетель, герой, сделать, люк, перевоплотиться, джокер, воплощение, подлость, порочность, удаться, пройти, шаг, лёгкий, продолжить, актёр, напечатать, свой, образ, куча, товар, pez, дозатор, игрушка, конфета, детский, нижний, бельё, underoos, электрический, зубной, щётка, спальный, хэмилла, отметить, постичь, судьба, искренне, благодарный, получить, признание, космический, станция, способный, уничтожать, целый, планета, люк, скайуокер, взрывать, фильм, франшиза, война, эпизод, iv, новый, помимо, съёмка, фантастический, эпопея, хэмилла, озвучивать, злодей, джокер, ...]</td>\n",
       "    </tr>\n",
       "    <tr>\n",
       "      <th>670990</th>\n",
       "      <td>[тысяча, американский, десантник, осуществить, среда, парашютный, высадка, север, ирак, сообщать, cbs, news, район, высадка, самолёт, палубный, авиация, вмс, сша, нанести, ракетный, удар, позиция, иракский, войско, информация, представитель, американский, командование, боец, парашютный, десантный, бригада, высадиться, территория, контролировать, курдский, племя, прибыть, подразделение, занять, аэродром, башур, bashur, километр, юг, граница, турция, настоящий, готовиться, принятие, новый, сила, коалиция, подобный, действие, шаг, открытие, ирак, северный, фронт, американский, войско, помочь, снизить, напряжённость, регион, возникнуть, перемещение, турция, свой, подразделение, граница, ирак, район, населить, курд, заявление, анкара, сделать, частность, избежать, гуманитарный, катастрофа, граница, предотвратить, создание, независимый, курдский, государство, северный, часть, ирак, заселять, преимущественно, курд, граница, зона, запретный, полёт, ...]</td>\n",
       "    </tr>\n",
       "    <tr>\n",
       "      <th>530791</th>\n",
       "      <td>[полузащитник, сборная, англия, дэвид, бекхэм, заявить, собираться, завершать, карьера, национальный, команда, несмотря, англичанин, суметь, пробиться, евро, футболист, пообещать, продолжить, выступать, сборная, вывести, финальный, стадия, чемпионат, мир, юар, сообщать, afp, бекхэм, считать, достаточно, опыт, страсть, помочь, свой, команда, решить, задача, выход, чм, полузащитник, сыграть, матч, сборная, англия, надеяться, преемник, стив, макларен, пост, главное, тренер, найти, место, состав, настоящий, бекхэм, находиться, австралия, вторник, ноябрь, состояться, товарищеский, матч, команда, англичанин, лос, анджелес, гэлаксить, местный, клуб, сидней, игра, состояться, дебют, руда, гуллита, пост, главное, тренер, гэлаксить]</td>\n",
       "    </tr>\n",
       "  </tbody>\n",
       "</table>\n",
       "</div>"
      ],
      "text/plain": [
       "                                                                                                                                                                                                                                                                                                                                                                                                                                                                                                                                                                                                                                                                                                                                                                                                                                                                                                                                                                                                   text\n",
       "58102                                                       [американский, актёр, марк, хэмилла, известный, роль, люк, скайоукер, фантастический, киноэпопея, поведать, быстрый, способ, стать, знаменитость, слово, сделать, шаг, передавать, портал, bt, среда, август, дело, шаг, взорвать, звезда, смерть, заслужить, благодарность, миллион, остаться, отметить, хэмилла, укрепить, свой, образ, благодетель, герой, сделать, люк, перевоплотиться, джокер, воплощение, подлость, порочность, удаться, пройти, шаг, лёгкий, продолжить, актёр, напечатать, свой, образ, куча, товар, pez, дозатор, игрушка, конфета, детский, нижний, бельё, underoos, электрический, зубной, щётка, спальный, хэмилла, отметить, постичь, судьба, искренне, благодарный, получить, признание, космический, станция, способный, уничтожать, целый, планета, люк, скайуокер, взрывать, фильм, франшиза, война, эпизод, iv, новый, помимо, съёмка, фантастический, эпопея, хэмилла, озвучивать, злодей, джокер, ...]\n",
       "670990  [тысяча, американский, десантник, осуществить, среда, парашютный, высадка, север, ирак, сообщать, cbs, news, район, высадка, самолёт, палубный, авиация, вмс, сша, нанести, ракетный, удар, позиция, иракский, войско, информация, представитель, американский, командование, боец, парашютный, десантный, бригада, высадиться, территория, контролировать, курдский, племя, прибыть, подразделение, занять, аэродром, башур, bashur, километр, юг, граница, турция, настоящий, готовиться, принятие, новый, сила, коалиция, подобный, действие, шаг, открытие, ирак, северный, фронт, американский, войско, помочь, снизить, напряжённость, регион, возникнуть, перемещение, турция, свой, подразделение, граница, ирак, район, населить, курд, заявление, анкара, сделать, частность, избежать, гуманитарный, катастрофа, граница, предотвратить, создание, независимый, курдский, государство, северный, часть, ирак, заселять, преимущественно, курд, граница, зона, запретный, полёт, ...]\n",
       "530791                                                                                                                                                                                                                                     [полузащитник, сборная, англия, дэвид, бекхэм, заявить, собираться, завершать, карьера, национальный, команда, несмотря, англичанин, суметь, пробиться, евро, футболист, пообещать, продолжить, выступать, сборная, вывести, финальный, стадия, чемпионат, мир, юар, сообщать, afp, бекхэм, считать, достаточно, опыт, страсть, помочь, свой, команда, решить, задача, выход, чм, полузащитник, сыграть, матч, сборная, англия, надеяться, преемник, стив, макларен, пост, главное, тренер, найти, место, состав, настоящий, бекхэм, находиться, австралия, вторник, ноябрь, состояться, товарищеский, матч, команда, англичанин, лос, анджелес, гэлаксить, местный, клуб, сидней, игра, состояться, дебют, руда, гуллита, пост, главное, тренер, гэлаксить]"
      ]
     },
     "execution_count": 9,
     "metadata": {},
     "output_type": "execute_result"
    }
   ],
   "source": [
    "df.head(3)"
   ]
  },
  {
   "cell_type": "markdown",
   "id": "355e0d46-eb35-42f1-bd27-936a0e8fb525",
   "metadata": {},
   "source": [
    "Создадим словарь:"
   ]
  },
  {
   "cell_type": "code",
   "execution_count": 10,
   "id": "bb77bbb4-2d8e-4a45-a6cf-3e82e6e2d80b",
   "metadata": {},
   "outputs": [
    {
     "data": {
      "text/plain": [
       "140176"
      ]
     },
     "execution_count": 10,
     "metadata": {},
     "output_type": "execute_result"
    }
   ],
   "source": [
    "dictionary = Dictionary(df['text'])\n",
    "len(dictionary)"
   ]
  },
  {
   "cell_type": "markdown",
   "id": "a9167e1f-4a3c-4660-b731-1302c381d9e7",
   "metadata": {},
   "source": [
    "Уберём из словаря очень редкие и очень частые слова:"
   ]
  },
  {
   "cell_type": "code",
   "execution_count": 11,
   "id": "a8f3bf51-1d4f-40a0-b66e-4133498f4f48",
   "metadata": {},
   "outputs": [
    {
     "data": {
      "text/plain": [
       "35724"
      ]
     },
     "execution_count": 11,
     "metadata": {},
     "output_type": "execute_result"
    }
   ],
   "source": [
    "dictionary.filter_extremes(no_below=5, no_above=0.7, keep_n=None)\n",
    "len(dictionary)"
   ]
  },
  {
   "cell_type": "markdown",
   "id": "60324aae-aee5-48a7-9493-470117a45e18",
   "metadata": {},
   "source": [
    "Создадим корпус текстов для обучения модели, используя словарь:"
   ]
  },
  {
   "cell_type": "code",
   "execution_count": 12,
   "id": "6a65e0fb-49ad-489b-b816-9512e6ecca4b",
   "metadata": {},
   "outputs": [],
   "source": [
    "corpus = [dictionary.doc2bow(text) for text in df['text']]"
   ]
  },
  {
   "cell_type": "markdown",
   "id": "da617d31-cb2f-4e55-8329-c31badb5406d",
   "metadata": {},
   "source": [
    "Зададим первоначальное количество тем:"
   ]
  },
  {
   "cell_type": "code",
   "execution_count": 13,
   "id": "06e67061-3357-4d4b-88ca-fcdb7f4dfa8d",
   "metadata": {},
   "outputs": [],
   "source": [
    "NUM_TOPICS = 5"
   ]
  },
  {
   "cell_type": "markdown",
   "id": "55ae0ce9-63e9-4a7e-b0ae-299c5689785c",
   "metadata": {},
   "source": [
    "Обучим модель:"
   ]
  },
  {
   "cell_type": "code",
   "execution_count": 14,
   "id": "7790322e-cbaf-44a9-8794-035c61b1e302",
   "metadata": {},
   "outputs": [
    {
     "name": "stdout",
     "output_type": "stream",
     "text": [
      "CPU times: user 31.1 s, sys: 100 ms, total: 31.2 s\n",
      "Wall time: 31.2 s\n"
     ]
    }
   ],
   "source": [
    "%%time\n",
    "\n",
    "model = LdaModel(corpus, num_topics=NUM_TOPICS, id2word=dictionary, passes=2, random_state=RANDOM_STATE)"
   ]
  },
  {
   "cell_type": "markdown",
   "id": "da174b87-0273-432d-a461-e5c425c4f6f1",
   "metadata": {},
   "source": [
    "Проверим, насколько модель научилась разделять тематики:"
   ]
  },
  {
   "cell_type": "code",
   "execution_count": 15,
   "id": "20438a3f-aaeb-4a63-a5f0-0e44ca73424c",
   "metadata": {},
   "outputs": [],
   "source": [
    "def get_topics_words(model, n_topics):\n",
    "    \n",
    "    x = model.show_topics(num_topics=n_topics, num_words=10, formatted=False)\n",
    "    topics_words = [(tp[0], [wd[0] for wd in tp[1]]) for tp in x]\n",
    "\n",
    "    for topic, words in topics_words:\n",
    "        print(f\"topic_{topic}: \" + \" \".join(words))"
   ]
  },
  {
   "cell_type": "code",
   "execution_count": 16,
   "id": "dcc81c93-1c66-41b8-b126-a6f3654d8980",
   "metadata": {},
   "outputs": [
    {
     "name": "stdout",
     "output_type": "stream",
     "text": [
      "topic_0: компания новый свой сша the американский учёный тысяча сайт миллион\n",
      "topic_1: процент компания россия доллар миллиард рубль российский миллион страна сша\n",
      "topic_2: матч свой команда стать фильм сообщать сборная клуб россия мир\n",
      "topic_3: президент россия суд дело заявить свой глава украина слово решение\n",
      "topic_4: сообщать произойти находиться город полиция погибнуть результат данные сообщить задержать\n"
     ]
    }
   ],
   "source": [
    "get_topics_words(model, NUM_TOPICS)"
   ]
  },
  {
   "cell_type": "markdown",
   "id": "6c9a87ea-7fa0-4b75-b644-3c062e63dbc8",
   "metadata": {},
   "source": [
    "В целом, модель неплохо справляется. Можно без особого труда дать названия  \n",
    "почти всем получившимся темам."
   ]
  },
  {
   "cell_type": "markdown",
   "id": "d3c3b503-ded9-4eb0-af76-038fc1b4cae9",
   "metadata": {},
   "source": [
    "Теперь посмотрим значение средней когерентности модели:"
   ]
  },
  {
   "cell_type": "code",
   "execution_count": 17,
   "id": "853c3c9c-fa81-42b0-a690-dd62575ec23c",
   "metadata": {},
   "outputs": [
    {
     "data": {
      "text/plain": [
       "0.45120923334042706"
      ]
     },
     "execution_count": 17,
     "metadata": {},
     "output_type": "execute_result"
    }
   ],
   "source": [
    "CoherenceModel(model, texts=df['text'], dictionary=dictionary).get_coherence()"
   ]
  },
  {
   "cell_type": "markdown",
   "id": "b1efb203-f96d-4ba6-8a23-5d95b6d82723",
   "metadata": {},
   "source": [
    "Попробуем выявить количество тематик, дающее наибольшую метрику  \n",
    "средней когерентности:"
   ]
  },
  {
   "cell_type": "code",
   "execution_count": 18,
   "id": "1c7e633d-ea66-45ea-a3ef-66296b200e3a",
   "metadata": {},
   "outputs": [
    {
     "name": "stderr",
     "output_type": "stream",
     "text": [
      "100%|█████████████████████████████████████████████| 9/9 [09:24<00:00, 62.77s/it]\n"
     ]
    }
   ],
   "source": [
    "ns = (3, 5, 10, 15, 20, 25, 30, 40, 50)\n",
    "scores = []\n",
    "\n",
    "for n_topics in tqdm(ns):\n",
    "    model = LdaModel(corpus, num_topics=n_topics, id2word=dictionary, \n",
    "                     passes=2, random_state=RANDOM_STATE)\n",
    "    \n",
    "    score = CoherenceModel(model, texts=df['text'], dictionary=dictionary).get_coherence()\n",
    "    scores.append(score)"
   ]
  },
  {
   "cell_type": "code",
   "execution_count": 19,
   "id": "fe53f613-2293-4dee-aab3-188f55d3fcca",
   "metadata": {},
   "outputs": [
    {
     "data": {
      "image/png": "[encoded data removed]",
      "text/plain": [
       "<Figure size 640x480 with 1 Axes>"
      ]
     },
     "metadata": {},
     "output_type": "display_data"
    }
   ],
   "source": [
    "plt.plot(ns, scores)\n",
    "plt.title('Средняя когерентность при различном числе тематик')\n",
    "plt.xlabel('Число тематик')\n",
    "plt.ylabel('Средняя когерентность')\n",
    "plt.grid()\n",
    "plt.show()"
   ]
  },
  {
   "cell_type": "markdown",
   "id": "40d8f1e5-0606-4fb2-815d-f28190b18b3a",
   "metadata": {},
   "source": [
    "Наибольшую метрику показывает модель с разделением на 40 тематик.  \n",
    "Оценим визуально её качество:"
   ]
  },
  {
   "cell_type": "code",
   "execution_count": 20,
   "id": "00238450-2e23-498b-b101-025f92f1dfa5",
   "metadata": {},
   "outputs": [],
   "source": [
    "NUM_TOPICS = 40"
   ]
  },
  {
   "cell_type": "code",
   "execution_count": 21,
   "id": "1661884d-a3cd-4088-a045-79a28f774c92",
   "metadata": {},
   "outputs": [],
   "source": [
    "model = LdaModel(corpus, num_topics=NUM_TOPICS, id2word=dictionary, passes=2, random_state=RANDOM_STATE)"
   ]
  },
  {
   "cell_type": "code",
   "execution_count": 22,
   "id": "aad594f6-532a-47c0-85ee-ad91f3881f7a",
   "metadata": {},
   "outputs": [
    {
     "name": "stdout",
     "output_type": "stream",
     "text": [
      "topic_0: сша американский нью штат йорк the press associated new times\n",
      "topic_1: компания акция газета директор свой крупный российский сделка банк решение\n",
      "topic_2: украина украинский киев крым республика донецкий язык порошенко народный рада\n",
      "topic_3: москва город строительство проект центр петербург московский площадь метр санкт\n",
      "topic_4: израиль израильский аль газета палестинский the британский польский египет сообщать\n",
      "topic_5: суд дело убийство обвинение адвокат свой признать бывший преступление приговорить\n",
      "topic_6: депутат партия выборы парламент госдума закон законопроект голос голосование член\n",
      "topic_7: ракета корабль космический истребитель самолёт аппарат ввс полёт запуск су\n",
      "topic_8: процент доллар миллиард рубль банк нефть цена россия составить рынок\n",
      "topic_9: фильм картина актёр режиссёр роль главный выйти стать лента сериал\n",
      "topic_10: российский россия олимпийский франция спортсмен мир международный французский игра спорт\n",
      "topic_11: погибнуть город боевик результат сообщать теракт данные террорист власть район\n",
      "topic_12: автомобиль машина место москва новость риа сообщать произойти водитель сообщить\n",
      "topic_13: миллион доллар тысяча дом деньга место фунт продать самый сумма\n",
      "topic_14: задержать сотрудник орган правоохранительный мвд чечня район оружие сообщить обнаружить\n",
      "topic_15: полиция произойти пострадать пожар полицейский здание сообщать дом инцидент город\n",
      "topic_16: победа место счёт минута турнир мир финал чемпион свой стать\n",
      "topic_17: свой слово заявить отметить рассказать говорить мнение считать большой журналист\n",
      "topic_18: китай южный китайский япония корея северный страна японский кндр сша\n",
      "topic_19: животное обнаружить тело найти остров вода находиться сообщать море берег\n",
      "topic_20: сша президент американский обама трамп штат буш телеканал свой белый\n",
      "topic_21: матч счёт белоруссия команда россия игра белорусский очко встреча чемпионат\n",
      "topic_22: дело уголовный рф статья возбудить задержать прокуратура грузия сотрудник следственный\n",
      "topic_23: россия страна российский соглашение европейский ес европа санкция процент германия\n",
      "topic_24: новый военный система проект производство вооружение оборона контракт поставка комплекс\n",
      "topic_25: ребёнок женщина школа летний мужчина семья родитель мать сын детский\n",
      "topic_26: врач больница азербайджан операция армения медицинский состояние лечение здоровье мозг\n",
      "topic_27: премия хороший получить книга конкурс церковь стать британский награда церемония\n",
      "topic_28: президент глава выборы акция пост министр власть страна свой лидер\n",
      "topic_29: клуб команда сборная матч чемпионат тренер футболист футбольный лига игрок\n",
      "topic_30: игра театр проект новый часть релиз студия выйти of продажа\n",
      "topic_31: россия президент глава путин правительство министр владимир заявить слово рф\n",
      "topic_32: учёный исследование работа результат исследователь земля специалист обнаружить университет вода\n",
      "topic_33: латвия напиток запрет вино брак продукт алкоголь сербия бюллетень болгария\n",
      "topic_34: сайт интернет пользователь сеть опубликовать сервис свой реклама видео страница\n",
      "topic_35: самолёт аэропорт пассажир авиакомпания борт авария находиться экипаж рейс вертолёт\n",
      "topic_36: военный страна россия заявить сша российский ирак сирия сторона оон\n",
      "topic_37: группа the песня музыкант альбом концерт музей свой певица искусство\n",
      "topic_38: компания новый модель система устройство версия apple мобильный компьютер microsoft\n",
      "topic_39: процент тысяча рубль миллион рынок составить цена составлять квартира стоимость\n"
     ]
    }
   ],
   "source": [
    "get_topics_words(model, NUM_TOPICS)"
   ]
  },
  {
   "cell_type": "markdown",
   "id": "9fd96c62-c04a-495e-ae5c-45c99822f939",
   "metadata": {},
   "source": [
    "Получили много распределений слов в темах, у большинства из которых легко  \n",
    "обозначить их направленность. Однако некоторые темы субъективно пересекаются  \n",
    "с другими, например, связанные с экономикой. Возможно, стоит остановиться на  \n",
    "предыдущем пиковом значении метрики, достигаемом при 20 тематиках. Но это,  \n",
    "в основном, зависит от конкретной задачи нашего моделирования."
   ]
  }
 ],
 "metadata": {
  "kernelspec": {
   "display_name": "Python 3 (ipykernel)",
   "language": "python",
   "name": "python3"
  },
  "language_info": {
   "codemirror_mode": {
    "name": "ipython",
    "version": 3
   },
   "file_extension": ".py",
   "mimetype": "text/x-python",
   "name": "python",
   "nbconvert_exporter": "python",
   "pygments_lexer": "ipython3",
   "version": "3.10.7"
  }
 },
 "nbformat": 4,
 "nbformat_minor": 5
}
